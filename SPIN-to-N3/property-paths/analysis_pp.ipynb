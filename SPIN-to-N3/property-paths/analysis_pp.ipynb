{
 "cells": [
  {
   "cell_type": "code",
   "execution_count": null,
   "id": "cb89d2a5",
   "metadata": {},
   "outputs": [],
   "source": [
    "import os\n",
    "import pandas as pd\n",
    "pd.options.mode.chained_assignment = None  # default='warn'"
   ]
  },
  {
   "cell_type": "code",
   "execution_count": 214,
   "id": "3be662a3",
   "metadata": {},
   "outputs": [],
   "source": [
    "results_path = \"/Users/wvw/git/n3/sparql2n3/SPARQL-to-N3/gmark_50_new/mix\"\n",
    "desc_path = \"/Users/wvw/git/n3/sparql2n3/SPARQL-to-N3/SPIN-to-N3/property-paths/results/gmark\"\n",
    "systems = [ 'jena', 'rdf4j', 'rdflib', 'direct', 'fwd', 'bwd' ]\n",
    "data_sizes = [ \"50\", \"100\" ]\n",
    "dataset_to_id = [ len(\"data_\"), -len(\".n3\") ]\n",
    "sparql_to_id = [ len(\"query-\"), -len(\".sparql\") ]\n",
    "n3_to_id = [ len(\"query-\"), -len(\".n3\") ]\n",
    "queries = [ f\"query-{i}\" for i in range(0, 50) ]"
   ]
  },
  {
   "cell_type": "code",
   "execution_count": null,
   "id": "046cd4ec",
   "metadata": {},
   "outputs": [],
   "source": [
    "# results_path = \"/Users/wvw/git/n3/sparql2n3/SPARQL-to-N3/SPIN-to-N3/property-paths/zika\"\n",
    "# desc_path = \"/Users/wvw/git/n3/sparql2n3/SPARQL-to-N3/SPIN-to-N3/property-paths/results/zika\"\n",
    "# systems = 'jena', 'direct', 'fwd', 'bwd'\n",
    "# data_sizes = \"1_000_pt2\", \"2_000_pt2\", \"5_000_pt2\", \"7_000_pt2\", \"10_000_pt2\"\n",
    "# dataset_to_id = [ len(\"data_\"), -len(\"-pt2.nt\") ]\n",
    "# query_to_id = [ 0, -len(\".sparql\") ]\n",
    "# queries = [ f\"pp{i}\" for i in range(1, 5) ]"
   ]
  },
  {
   "cell_type": "markdown",
   "id": "d70aed26",
   "metadata": {},
   "source": [
    "## Load results"
   ]
  },
  {
   "cell_type": "code",
   "execution_count": 228,
   "id": "f3fe4978",
   "metadata": {},
   "outputs": [],
   "source": [
    "def load_sparql_times(system, data_size=None):\n",
    "    root = f\"{results_path}/results/{system}\"\n",
    "    if data_size is None:\n",
    "        df_sparql = pd.concat([pd.read_csv(os.path.join(\n",
    "            root, folder, f\"times_{system}.csv\")) for folder in os.listdir(root) if not folder.startswith(\".\")])\n",
    "    else:\n",
    "        df_sparql = pd.read_csv(os.path.join(\n",
    "            root, data_size, f\"times_{system}.csv\"))\n",
    "\n",
    "    df_sparql['total_time'] = df_sparql['load_time'] + df_sparql['exec_time']\n",
    "    return df_sparql\n",
    "\n",
    "\n",
    "def __sparql_agg(df_sparql, grouper):\n",
    "    df_sparql_agg = df_sparql.groupby(\n",
    "        grouper)[['load_time', 'exec_time', 'total_time']].mean().reset_index()\n",
    "\n",
    "    return df_sparql_agg\n",
    "\n",
    "\n",
    "def load_sparql_agg_dataset(system, data_size):\n",
    "    df_sparql = load_sparql_times(system, data_size)\n",
    "\n",
    "    df_sparql_agg = __sparql_agg(df_sparql, \"query\")\n",
    "    df_sparql_agg['id'] = df_sparql_agg['query'].str.slice(\n",
    "        sparql_to_id[0], sparql_to_id[1])\n",
    "\n",
    "    return df_sparql_agg\n",
    "\n",
    "\n",
    "def load_sparql_agg_query(system, query):\n",
    "    df_sparql = load_sparql_times(system)\n",
    "    df_sparql = df_sparql[df_sparql['query'] == query]\n",
    "\n",
    "    df_sparql_agg = __sparql_agg(df_sparql, \"data\")\n",
    "    df_sparql_agg['id'] = df_sparql_agg['data'].str.slice(\n",
    "        dataset_to_id[0], dataset_to_id[1]).astype(int)\n",
    "    df_sparql_agg = df_sparql_agg.sort_values(by='id')\n",
    "\n",
    "    return df_sparql_agg\n",
    "\n",
    "\n",
    "def load_sparql_agg(system):\n",
    "    df_sparql = load_sparql_times(system)\n",
    "\n",
    "    df_sparql_agg = __sparql_agg(df_sparql, \"data\")\n",
    "    df_sparql_agg['id'] = df_sparql_agg['data'].str.slice(\n",
    "        dataset_to_id[0], dataset_to_id[1]).astype(int)\n",
    "    df_sparql_agg = df_sparql_agg.sort_values(by='id')\n",
    "\n",
    "    return df_sparql_agg"
   ]
  },
  {
   "cell_type": "code",
   "execution_count": 229,
   "id": "280a33cc",
   "metadata": {},
   "outputs": [],
   "source": [
    "def __load_n3_time(path):\n",
    "    df_n3 = pd.read_csv(path)\n",
    "\n",
    "    # drop all times for query with at least 1 failed phase\n",
    "    df_n3['id'] = df_n3.apply(lambda x: f\"{x['query']},{x['type']}\", axis=1)\n",
    "    df_n3_failed = df_n3[df_n3['reas_time'] == -1]['id']\n",
    "    df_n3_filt = df_n3[~df_n3['id'].isin(df_n3_failed)]\n",
    "\n",
    "    return df_n3_filt\n",
    "\n",
    "\n",
    "def load_n3_times(type, data_size=None):\n",
    "    root = f\"{results_path}/n3/results\"\n",
    "    if data_size is None:\n",
    "        df_n3 = pd.concat([__load_n3_time(os.path.join(\n",
    "            root, folder, f\"times_n3.csv\")) for folder in os.listdir(root) if not folder.startswith(\".\")])\n",
    "    else:\n",
    "        df_n3 = __load_n3_time(os.path.join(\n",
    "            root, data_size, f\"times_n3.csv\"))\n",
    "\n",
    "    df_n3 = df_n3[df_n3['type'] == type]\n",
    "\n",
    "    df_n3_total = df_n3[df_n3['phase'].isna() | (\n",
    "        df_n3['phase'] == 'total')]\n",
    "    df_n3_total['total_time'] = df_n3_total['netw_time'] + \\\n",
    "        df_n3_total['reas_time']\n",
    "\n",
    "    return df_n3_total\n",
    "\n",
    "\n",
    "def __n3_agg(df_n3, grouper):\n",
    "    df_n3_agg = df_n3.groupby(\n",
    "        grouper)[['netw_time', 'reas_time', 'total_time']].mean().reset_index()\n",
    "\n",
    "    return df_n3_agg\n",
    "\n",
    "\n",
    "def load_n3_agg_dataset(type, data_size):\n",
    "    df_n3 = load_n3_times(type, data_size)\n",
    "\n",
    "    df_n3_agg = __n3_agg(df_n3, \"query\")\n",
    "    df_n3_agg['id'] = df_n3_agg['query'].str.slice(\n",
    "        n3_to_id[0], n3_to_id[1])\n",
    "\n",
    "    return df_n3_agg\n",
    "\n",
    "\n",
    "def load_n3_agg_query(type, query):\n",
    "    df_n3 = load_n3_times(type)\n",
    "    df_n3 = df_n3[df_n3['query'] == query]\n",
    "\n",
    "    df_n3_agg = __n3_agg(df_n3, \"data\")\n",
    "    df_n3_agg['id'] = df_n3_agg['data'].str.slice(\n",
    "        dataset_to_id[0], dataset_to_id[1]).astype(int)\n",
    "    df_n3_agg = df_n3_agg.sort_values(by='id')\n",
    "\n",
    "    return df_n3_agg\n",
    "\n",
    "\n",
    "def load_n3_agg(type):\n",
    "    df_n3 = load_n3_times(type)\n",
    "\n",
    "    df_n3_agg = __n3_agg(df_n3, \"data\")\n",
    "    df_n3_agg['id'] = df_n3_agg['data'].str.slice(\n",
    "        dataset_to_id[0], dataset_to_id[1]).astype(int)\n",
    "    df_n3_agg = df_n3_agg.sort_values(by='id')\n",
    "\n",
    "    return df_n3_agg"
   ]
  },
  {
   "cell_type": "markdown",
   "id": "8080ef5a",
   "metadata": {},
   "source": [
    "## Check outliers"
   ]
  },
  {
   "cell_type": "code",
   "execution_count": null,
   "id": "ddfc1109",
   "metadata": {},
   "outputs": [],
   "source": [
    "def check_query_stdev(df, time_col, limit=10):\n",
    "    for query in df['query'].unique():\n",
    "        df_query = df[df['query']==query]\n",
    "        stdev = df_query[time_col].describe()['std']\n",
    "        if stdev > limit:\n",
    "            print(query, \"stdev:\", stdev)\n",
    "            print(df_query)\n",
    "            print()"
   ]
  },
  {
   "cell_type": "code",
   "execution_count": null,
   "id": "90a057b6",
   "metadata": {},
   "outputs": [],
   "source": [
    "# check_query_stdev(load_sparql_times('jena', 50), time_col='exec_time', limit=50)\n",
    "# check_query_stdev(load_sparql_times('jena', 100),time_col='exec_time',  limit=50)\n",
    "\n",
    "## - jena, data_size 100:\n",
    "# outliers (exec time): query-11 (100637 vs. avg. 153), query-2 (309138 vs. avg. 39551)\n",
    "# (replaced with averages)\n",
    "\n",
    "check_query_stdev(load_sparql_times('jena', \"1_000_pt2\"), time_col='exec_time', limit=50)"
   ]
  },
  {
   "cell_type": "code",
   "execution_count": null,
   "id": "f196e214",
   "metadata": {},
   "outputs": [],
   "source": [
    "check_query_stdev(load_sparql_times('rdflib', 50), time_col='exec_time', limit=50)"
   ]
  },
  {
   "cell_type": "code",
   "execution_count": null,
   "id": "ef928570",
   "metadata": {},
   "outputs": [],
   "source": [
    "check_query_stdev(load_sparql_times('rdf4j', 50), time_col='exec_time', limit=100)\n",
    "check_query_stdev(load_sparql_times('rdf4j', 100), time_col='exec_time', limit=100)"
   ]
  },
  {
   "cell_type": "code",
   "execution_count": null,
   "id": "005ea266",
   "metadata": {},
   "outputs": [],
   "source": [
    "# check_query_stdev(load_n3_times('fwd', 50), time_col='reas_time', limit=50)\n",
    "# check_query_stdev(load_n3_times('fwd', 100), time_col='reas_time', limit=50)\n",
    "\n",
    "check_query_stdev(load_n3_times('direct', \"10_000_pt2\"), time_col='reas_time', limit=100)\n",
    "check_query_stdev(load_n3_times('bwd', \"10_000_pt2\"), time_col='reas_time', limit=100)\n",
    "check_query_stdev(load_n3_times('fwd', \"10_000_pt2\"), time_col='reas_time', limit=100)"
   ]
  },
  {
   "cell_type": "markdown",
   "id": "bb7d1d06",
   "metadata": {},
   "source": [
    "## Check statistics"
   ]
  },
  {
   "cell_type": "markdown",
   "id": "9daf88cb",
   "metadata": {},
   "source": [
    "### Per query"
   ]
  },
  {
   "cell_type": "code",
   "execution_count": null,
   "id": "d3da2f2e",
   "metadata": {},
   "outputs": [],
   "source": [
    "# (only for zika)\n",
    "\n",
    "for data_size in data_sizes:\n",
    "    \n",
    "    results = []\n",
    "    for system in systems:\n",
    "        if system == 'jena':\n",
    "            res = load_sparql_agg_dataset('jena', data_size)\n",
    "            name = system\n",
    "        else:\n",
    "            res = load_n3_agg_dataset(system, data_size)\n",
    "            name = f\"n3_{system}\"\n",
    "        \n",
    "        res = res[res['id'].isin(queries)]\n",
    "        res.to_csv(f\"{results_path}/../results/zika/per_query/{name}-{data_size}.csv\")\n",
    "        results.append(res)\n",
    "    \n",
    "    all_res = None\n",
    "    for system, res in zip(systems, results):\n",
    "        res_col = ('exec_time' if system == 'jena' else 'reas_time')\n",
    "        res_filt = res[['id', res_col]]\n",
    "        \n",
    "        if all_res is None:\n",
    "            all_res = res_filt\n",
    "        else:\n",
    "            all_res = pd.merge(all_res, res_filt, on='id')\n",
    "        all_res = all_res.rename(columns={res_col: system})\n",
    "    \n",
    "    print(data_size)\n",
    "    print(all_res)"
   ]
  },
  {
   "cell_type": "markdown",
   "id": "bec1cbe1",
   "metadata": {},
   "source": [
    "### Overall"
   ]
  },
  {
   "cell_type": "code",
   "execution_count": null,
   "id": "aad2b30b",
   "metadata": {},
   "outputs": [],
   "source": [
    "def describe_sparql(system, data_size, to_file=True):\n",
    "    global desc_path\n",
    "    \n",
    "    res = load_sparql_agg_dataset(system, data_size)\n",
    "    res = res[res['id'].isin(queries)]\n",
    "    de = res.describe()\n",
    "    \n",
    "    if not to_file:\n",
    "        print(system, data_size, \"\\n\", de)\n",
    "    else:\n",
    "        de.to_csv(os.path.join(desc_path, f\"{system}-{data_size}.csv\"))\n",
    "    \n",
    "def describe_n3(type, data_size, to_file=True):\n",
    "    global desc_path\n",
    "    \n",
    "    res = load_n3_agg_dataset(type, data_size)\n",
    "    res = res[res['id'].isin(queries)]\n",
    "    de = res.describe()\n",
    "    \n",
    "    if not to_file:\n",
    "        print(\"n3\", type, data_size, \"\\n\", de)\n",
    "    else:\n",
    "        de.to_csv(os.path.join(desc_path, f\"n3_{type}-{data_size}.csv\"))"
   ]
  },
  {
   "cell_type": "code",
   "execution_count": null,
   "id": "2d2b4559",
   "metadata": {},
   "outputs": [],
   "source": [
    "for system in systems:\n",
    "    for data_size in data_sizes:\n",
    "        \n",
    "        if system == 'jena':\n",
    "            describe_sparql(system, data_size)\n",
    "        else:\n",
    "            describe_n3(system, data_size)"
   ]
  },
  {
   "cell_type": "markdown",
   "id": "bdd7b567",
   "metadata": {},
   "source": [
    "### Aggregate"
   ]
  },
  {
   "cell_type": "code",
   "execution_count": 248,
   "id": "d91d8904",
   "metadata": {},
   "outputs": [
    {
     "data": {
      "text/html": [
       "<div>\n",
       "<style scoped>\n",
       "    .dataframe tbody tr th:only-of-type {\n",
       "        vertical-align: middle;\n",
       "    }\n",
       "\n",
       "    .dataframe tbody tr th {\n",
       "        vertical-align: top;\n",
       "    }\n",
       "\n",
       "    .dataframe thead th {\n",
       "        text-align: right;\n",
       "    }\n",
       "</style>\n",
       "<table border=\"1\" class=\"dataframe\">\n",
       "  <thead>\n",
       "    <tr style=\"text-align: right;\">\n",
       "      <th></th>\n",
       "      <th>id</th>\n",
       "      <th>jena</th>\n",
       "      <th>fwd</th>\n",
       "    </tr>\n",
       "  </thead>\n",
       "  <tbody>\n",
       "    <tr>\n",
       "      <th>0</th>\n",
       "      <td>50</td>\n",
       "      <td>202.424000</td>\n",
       "      <td>103.448000</td>\n",
       "    </tr>\n",
       "    <tr>\n",
       "      <th>1</th>\n",
       "      <td>100</td>\n",
       "      <td>1687.285714</td>\n",
       "      <td>326.106122</td>\n",
       "    </tr>\n",
       "  </tbody>\n",
       "</table>\n",
       "</div>"
      ],
      "text/plain": [
       "    id         jena         fwd\n",
       "0   50   202.424000  103.448000\n",
       "1  100  1687.285714  326.106122"
      ]
     },
     "execution_count": 248,
     "metadata": {},
     "output_type": "execute_result"
    }
   ],
   "source": [
    "all_res = None\n",
    "for system in [ 'jena', 'fwd' ]: #, 'bwd', 'direct' ]:\n",
    "    if system == 'jena' or system == 'rdf4j' or system == 'rdflib':\n",
    "        res = load_sparql_agg(system)\n",
    "        res = res[['id', 'exec_time']]\n",
    "        res = res.rename(columns={\"exec_time\": system})\n",
    "    else:\n",
    "        res = load_n3_agg(system)\n",
    "        res = res[['id', 'reas_time']]\n",
    "        res = res.rename(columns={\"reas_time\": system})\n",
    "\n",
    "    if all_res is None:\n",
    "        all_res = res\n",
    "    else:\n",
    "        all_res = pd.merge(all_res, res, on='id')\n",
    "        \n",
    "all_res"
   ]
  },
  {
   "cell_type": "markdown",
   "id": "bd005f04",
   "metadata": {},
   "source": [
    "## Plot"
   ]
  },
  {
   "cell_type": "code",
   "execution_count": 220,
   "id": "6cd80205",
   "metadata": {},
   "outputs": [],
   "source": [
    "import matplotlib.pyplot as plt\n",
    "\n",
    "def plot_query(name, incl_n3, incl_sparql, lim=None, ax=None, sys_label=False):\n",
    "    if ax is None:\n",
    "        fig, ax = plt.subplots()\n",
    "        if lim is not None:\n",
    "            ax.set_ylim(0, lim)\n",
    "        ax.set_title(name)\n",
    "\n",
    "    n3_query = f\"{name}.n3\"\n",
    "    for method in incl_n3:\n",
    "        label = (f\"{name} -- {method}\" if sys_label else method)\n",
    "        load_n3_agg_query(method, n3_query).plot(x='id', y='reas_time', ax=ax, label=label)\n",
    "\n",
    "    sparql_query = f\"{name}.sparql\"\n",
    "    for system in incl_sparql:\n",
    "        label = (f\"{name} -- {system}\" if sys_label else system)\n",
    "        load_sparql_agg_query(system, sparql_query).plot(x='id', y='exec_time', ax=ax, label=label)\n",
    "        \n",
    "        \n",
    "# (only for zika)\n",
    "def plot_system(system, incl_only=['pp1', 'pp2', 'pp3', 'pp4']):\n",
    "    fig, ax = plt.subplots()\n",
    "    ax.set_title(system)\n",
    "    \n",
    "    def my_plot(query, system):\n",
    "        nonlocal ax\n",
    "        if system == 'jena':\n",
    "            sparql_query = f\"{query}.sparql\"\n",
    "            load_sparql_agg_query(system, sparql_query).plot(x='id', y='exec_time', ax=ax, label=query)\n",
    "        else:\n",
    "            n3_query = f\"{query}.n3\"\n",
    "            load_n3_agg_query(system, n3_query).plot(x='id', y='reas_time', ax=ax, label=query)\n",
    "    \n",
    "    for query in queries:\n",
    "        if query in incl_only:\n",
    "            my_plot(query, system)\n",
    "            \n",
    "import matplotlib.pyplot as plt\n",
    "\n",
    "def plot_dataset(data_size, lim=None, incl_only=['direct', 'bwd', 'fwd','jena', 'rdflib', 'rdf4j']):\n",
    "    fig, ax = plt.subplots()\n",
    "    if lim is not None:\n",
    "        ax.set_ylim(0, lim)\n",
    "    ax.set_title(data_size)\n",
    "\n",
    "    for system in systems:\n",
    "        if system in incl_only:\n",
    "            if system == 'jena' or system == 'rdflib' or system == 'rdf4j':\n",
    "                load_sparql_agg_dataset(system, data_size).plot(x='id', y='exec_time', ax=ax, label=system)\n",
    "            else:\n",
    "                load_n3_agg_dataset(system, data_size).plot(x='id', y='reas_time', ax=ax, label=system)\n",
    "        \n",
    "def plot_all_datasets(lim=None, incl_only=['direct', 'bwd', 'fwd','jena', 'rdflib', 'rdf4j']):\n",
    "    fig, ax = plt.subplots()\n",
    "    if lim is not None:\n",
    "        ax.set_ylim(0, lim)\n",
    "        \n",
    "    for system in systems:\n",
    "        if system in incl_only:\n",
    "            if system == 'jena' or system == 'rdflib' or system == 'rdf4j':\n",
    "                load_sparql_agg(system).plot(x='id', y='exec_time', ax=ax, label=system)\n",
    "            else:\n",
    "                load_n3_agg(system).plot(x='id', y='reas_time', ax=ax, label=system)"
   ]
  },
  {
   "cell_type": "markdown",
   "id": "cdde7589",
   "metadata": {},
   "source": [
    "## Zika"
   ]
  },
  {
   "cell_type": "markdown",
   "id": "4dead990",
   "metadata": {},
   "source": [
    "### Original property paths"
   ]
  },
  {
   "cell_type": "markdown",
   "id": "431b86cc",
   "metadata": {},
   "source": [
    "#### pp1"
   ]
  },
  {
   "cell_type": "code",
   "execution_count": null,
   "id": "1be561c7",
   "metadata": {},
   "outputs": [],
   "source": [
    "plot_query(\"pp1\", incl_n3=['direct', 'bwd', 'fwd' ], incl_sparql=['jena' ])"
   ]
  },
  {
   "cell_type": "markdown",
   "id": "c796f8a7",
   "metadata": {},
   "source": [
    "#### pp2"
   ]
  },
  {
   "cell_type": "code",
   "execution_count": null,
   "id": "5a9f62bf",
   "metadata": {},
   "outputs": [],
   "source": [
    "plot_query(\"pp2\", incl_n3=['direct', 'bwd_ro1', 'fwd' ], incl_sparql=['jena' ])"
   ]
  },
  {
   "cell_type": "code",
   "execution_count": null,
   "id": "563a51fb",
   "metadata": {},
   "outputs": [],
   "source": [
    "plot_query(\"pp2\", incl_n3=[ 'bwd_ro1' ], incl_sparql=['jena' ])"
   ]
  },
  {
   "cell_type": "markdown",
   "id": "01bbc478",
   "metadata": {},
   "source": [
    "#### pp3"
   ]
  },
  {
   "cell_type": "code",
   "execution_count": null,
   "id": "0b8006c7",
   "metadata": {},
   "outputs": [],
   "source": [
    "# plot_query(\"pp3\", incl_n3=['direct', 'bwd', 'fwd', 'mxd' ], incl_sparql=['jena' ])\n",
    "plot_query(\"pp3\", incl_n3=['direct', 'bwd', 'mxd' ], incl_sparql=['jena' ])"
   ]
  },
  {
   "cell_type": "markdown",
   "id": "68edbbef",
   "metadata": {},
   "source": [
    "#### pp4"
   ]
  },
  {
   "cell_type": "code",
   "execution_count": null,
   "id": "4077fc69",
   "metadata": {},
   "outputs": [],
   "source": [
    "plot_query(\"pp4\", incl_n3=[ 'direct', 'bwd_ro1', 'fwd' ], incl_sparql=['jena' ])"
   ]
  },
  {
   "cell_type": "code",
   "execution_count": null,
   "id": "d04d991c",
   "metadata": {},
   "outputs": [],
   "source": [
    "plot_query(\"pp4\", incl_n3=[ 'bwd_ro1' ], incl_sparql=['jena' ])"
   ]
  },
  {
   "cell_type": "markdown",
   "id": "4b80574a",
   "metadata": {},
   "source": [
    "### Restricted property paths"
   ]
  },
  {
   "cell_type": "code",
   "execution_count": null,
   "id": "f6c67f87",
   "metadata": {},
   "outputs": [],
   "source": [
    "fig, ax = plt.subplots()\n",
    "ax.set_title(\"pp2 - restricted\")\n",
    "\n",
    "# plot_query(\"pp2\", incl_n3=[ 'bwd_ro1' ], incl_sparql=[], ax=ax)\n",
    "plot_query(\"pp2-re0\", incl_n3=[ 'bwd_ro1' ], incl_sparql=[ 'jena' ], ax=ax, sys_label=True)\n",
    "plot_query(\"pp2-re1\", incl_n3=[ 'bwd_ro1' ], incl_sparql=[ 'jena' ], ax=ax, sys_label=True)"
   ]
  },
  {
   "cell_type": "code",
   "execution_count": null,
   "id": "3ed708e3",
   "metadata": {},
   "outputs": [],
   "source": [
    "fig, ax = plt.subplots()\n",
    "ax.set_title(\"pp4 - restricted\")\n",
    "\n",
    "# plot_query(\"pp4\", incl_n3=[ 'bwd', 'bwd_ro1' ], incl_sparql=[], ax=ax)\n",
    "plot_query(\"pp4-re0\", incl_n3=[ 'bwd_ro1' ], incl_sparql=[ 'jena' ], ax=ax, sys_label=True)\n",
    "plot_query(\"pp4-re1\", incl_n3=[ 'bwd_ro1' ], incl_sparql=[ 'jena' ], ax=ax, sys_label=True)"
   ]
  },
  {
   "cell_type": "markdown",
   "id": "7f08268d",
   "metadata": {},
   "source": [
    "### Jena only"
   ]
  },
  {
   "cell_type": "code",
   "execution_count": null,
   "id": "0b07f02a",
   "metadata": {},
   "outputs": [],
   "source": [
    "plot_query(\"pp2\", incl_n3=[], incl_sparql=['jena'])"
   ]
  },
  {
   "cell_type": "code",
   "execution_count": null,
   "id": "84087e39",
   "metadata": {},
   "outputs": [],
   "source": [
    "plot_query(\"pp4\", incl_n3=[], incl_sparql=['jena'])"
   ]
  },
  {
   "cell_type": "markdown",
   "id": "1a978985",
   "metadata": {},
   "source": [
    "### Per system"
   ]
  },
  {
   "cell_type": "code",
   "execution_count": null,
   "id": "3bf6a740",
   "metadata": {},
   "outputs": [],
   "source": [
    "plot_system('jena')"
   ]
  },
  {
   "cell_type": "code",
   "execution_count": null,
   "id": "45784a55",
   "metadata": {},
   "outputs": [],
   "source": [
    "plot_system('fwd')"
   ]
  },
  {
   "cell_type": "code",
   "execution_count": null,
   "id": "fa9d3e3f",
   "metadata": {},
   "outputs": [],
   "source": [
    "plot_system('bwd')"
   ]
  },
  {
   "cell_type": "code",
   "execution_count": null,
   "id": "9e51c422",
   "metadata": {},
   "outputs": [],
   "source": [
    "plot_system('direct')"
   ]
  },
  {
   "cell_type": "markdown",
   "id": "037b1c70",
   "metadata": {},
   "source": [
    "### Per dataset"
   ]
  },
  {
   "cell_type": "code",
   "execution_count": null,
   "id": "bc163d1d",
   "metadata": {},
   "outputs": [],
   "source": [
    "plot_dataset(\"1_000_pt2\", lim=1000, incl_only=['direct', 'bwd', 'fwd','jena' ])"
   ]
  },
  {
   "cell_type": "code",
   "execution_count": null,
   "id": "557de566",
   "metadata": {},
   "outputs": [],
   "source": [
    "plot_dataset(\"5_000_pt2\", lim=20000, incl_only=['direct', 'bwd', 'fwd','jena' ])"
   ]
  },
  {
   "cell_type": "code",
   "execution_count": null,
   "id": "d7390875",
   "metadata": {},
   "outputs": [],
   "source": [
    "plot_dataset(\"10_000_pt2\", lim=100000, incl_only=['direct', 'bwd', 'fwd','jena' ])"
   ]
  },
  {
   "cell_type": "markdown",
   "id": "bf7a7bbf",
   "metadata": {},
   "source": [
    "## GMark"
   ]
  },
  {
   "cell_type": "code",
   "execution_count": null,
   "id": "31bec355",
   "metadata": {},
   "outputs": [],
   "source": [
    "plot_dataset(\"50\", incl_only=['fwd', 'jena', 'rdf4j'])"
   ]
  },
  {
   "cell_type": "code",
   "execution_count": null,
   "id": "2ec94993",
   "metadata": {},
   "outputs": [],
   "source": [
    "plot_dataset(\"50\", lim=500, incl_only=['fwd', 'jena', 'rdf4j'])"
   ]
  },
  {
   "cell_type": "code",
   "execution_count": null,
   "id": "2d4e137e",
   "metadata": {},
   "outputs": [],
   "source": [
    "plot_dataset(\"100\", incl_only=['fwd', 'jena', 'rdf4j'])"
   ]
  },
  {
   "cell_type": "code",
   "execution_count": 218,
   "id": "e1718b52",
   "metadata": {},
   "outputs": [
    {
     "data": {
      "image/png": "[encoded data removed]",
      "text/plain": [
       "<Figure size 640x480 with 1 Axes>"
      ]
     },
     "metadata": {},
     "output_type": "display_data"
    }
   ],
   "source": [
    "plot_dataset(\"100\", lim=1000, incl_only=['fwd', 'jena', 'rdf4j'])"
   ]
  },
  {
   "cell_type": "code",
   "execution_count": 230,
   "id": "049ff0c5",
   "metadata": {},
   "outputs": [
    {
     "data": {
      "image/png": "[encoded data removed]",
      "text/plain": [
       "<Figure size 640x480 with 1 Axes>"
      ]
     },
     "metadata": {},
     "output_type": "display_data"
    }
   ],
   "source": [
    "plot_all_datasets(incl_only=['jena', 'fwd'])"
   ]
  }
 ],
 "metadata": {
  "kernelspec": {
   "display_name": "base",
   "language": "python",
   "name": "python3"
  },
  "language_info": {
   "codemirror_mode": {
    "name": "ipython",
    "version": 3
   },
   "file_extension": ".py",
   "mimetype": "text/x-python",
   "name": "python",
   "nbconvert_exporter": "python",
   "pygments_lexer": "ipython3",
   "version": "3.11.5"
  }
 },
 "nbformat": 4,
 "nbformat_minor": 5
}
