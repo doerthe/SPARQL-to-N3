{
 "cells": [
  {
   "cell_type": "code",
   "execution_count": 18,
   "id": "cb89d2a5",
   "metadata": {},
   "outputs": [],
   "source": [
    "import os\n",
    "import pandas as pd\n",
    "pd.options.mode.chained_assignment = None  # default='warn'"
   ]
  },
  {
   "cell_type": "code",
   "execution_count": 19,
   "id": "3be662a3",
   "metadata": {},
   "outputs": [],
   "source": [
    "# results_path = \"/Users/wvw/git/n3/sparql2n3/SPARQL-to-N3/gmark_50_new/mix\"\n",
    "results_path = \"/Users/wvw/git/n3/sparql2n3/SPARQL-to-N3/SPIN-to-N3/property-paths/zika\""
   ]
  },
  {
   "cell_type": "markdown",
   "id": "d70aed26",
   "metadata": {},
   "source": [
    "## Load results"
   ]
  },
  {
   "cell_type": "code",
   "execution_count": 20,
   "id": "f3fe4978",
   "metadata": {},
   "outputs": [],
   "source": [
    "def load_sparql_times(system, data_size):\n",
    "    sparql_times = f\"{results_path}/results/{system}/{data_size}/times_{system}.csv\"\n",
    "    df_sparql = pd.read_csv(sparql_times)\n",
    "    df_sparql['total_time'] = df_sparql['load_time'] + df_sparql['exec_time']\n",
    "    \n",
    "    return df_sparql\n",
    "\n",
    "\n",
    "def load_sparql_times_agg(system, data_size):\n",
    "    df_sparql = load_sparql_times(system, data_size)\n",
    "    df_sparql_agg = df_sparql.groupby('query')[['load_time', 'exec_time', 'total_time']].mean().reset_index()\n",
    "    df_sparql_agg['nr'] = df_sparql_agg['query'].str.slice(len(\"query-\"), -len(\".sparql\"))\n",
    "    \n",
    "    return df_sparql_agg"
   ]
  },
  {
   "cell_type": "code",
   "execution_count": 21,
   "id": "280a33cc",
   "metadata": {},
   "outputs": [],
   "source": [
    "def load_n3_times(type, data_size):\n",
    "    n3_times = f\"{results_path}/n3/results/{data_size}/times_n3.csv\"\n",
    "    df_n3 = pd.read_csv(n3_times)\n",
    "    \n",
    "    df_n3 = df_n3[df_n3['type']==type]\n",
    "    \n",
    "    df_n3['id'] = df_n3.apply(lambda x: f\"{x['query']},{x['type']}\", axis=1)\n",
    "    df_n3_failed = df_n3[df_n3['reas_time']==-1]['id']\n",
    "    df_n3_filt = df_n3[~df_n3['id'].isin(df_n3_failed)]\n",
    "    \n",
    "    df_n3_total = df_n3_filt[df_n3_filt['phase'].isna() | (df_n3_filt['phase']=='total')]\n",
    "    df_n3_total['total_time'] = df_n3_total['netw_time'] + df_n3_total['reas_time']\n",
    "    \n",
    "    return df_n3_total\n",
    "\n",
    "\n",
    "def load_n3_times_agg(type, data_size):\n",
    "    df_n3_total = load_n3_times(type, data_size)    \n",
    "    df_n3_agg = df_n3_total.groupby('query')[['netw_time', 'reas_time', 'total_time']].mean().reset_index()\n",
    "    df_n3_agg['nr'] = df_n3_agg['query'].str.slice(len(\"query-\"), -len(\".n3\"))\n",
    "\n",
    "    return df_n3_agg"
   ]
  },
  {
   "cell_type": "markdown",
   "id": "8080ef5a",
   "metadata": {},
   "source": [
    "## Check outliers"
   ]
  },
  {
   "cell_type": "code",
   "execution_count": 12,
   "id": "ddfc1109",
   "metadata": {},
   "outputs": [],
   "source": [
    "def check_query_stdev(df, time_col, limit=10):\n",
    "    for query in df['query'].unique():\n",
    "        df_query = df[df['query']==query]\n",
    "        stdev = df_query[time_col].describe()['std']\n",
    "        if stdev > limit:\n",
    "            print(query, \"stdev:\", stdev)\n",
    "            print(df_query)\n",
    "            print()"
   ]
  },
  {
   "cell_type": "code",
   "execution_count": 10,
   "id": "90a057b6",
   "metadata": {},
   "outputs": [],
   "source": [
    "# check_query_stdev(load_sparql_times('jena', 50), time_col='exec_time', limit=50)\n",
    "# check_query_stdev(load_sparql_times('jena', 100),time_col='exec_time',  limit=50)\n",
    "\n",
    "## - jena, data_size 100:\n",
    "# outliers (exec time): query-11 (100637 vs. avg. 153), query-2 (309138 vs. avg. 39551)\n",
    "# (replaced with averages)\n",
    "\n",
    "check_query_stdev(load_sparql_times('jena', \"1_000_pt2\"), time_col='exec_time', limit=50)"
   ]
  },
  {
   "cell_type": "code",
   "execution_count": null,
   "id": "f196e214",
   "metadata": {},
   "outputs": [],
   "source": [
    "check_query_stdev(load_sparql_times('rdflib', 50), time_col='exec_time', limit=50)"
   ]
  },
  {
   "cell_type": "code",
   "execution_count": null,
   "id": "ef928570",
   "metadata": {},
   "outputs": [],
   "source": [
    "check_query_stdev(load_sparql_times('rdf4j', 50), time_col='exec_time', limit=100)\n",
    "check_query_stdev(load_sparql_times('rdf4j', 100), time_col='exec_time', limit=100)"
   ]
  },
  {
   "cell_type": "code",
   "execution_count": 13,
   "id": "005ea266",
   "metadata": {},
   "outputs": [
    {
     "name": "stdout",
     "output_type": "stream",
     "text": [
      "pp4.n3 stdev: 51.37087371912869\n",
      "     run   query               data    type phase  netw_time  reas_time  \\\n",
      "35     0  pp4.n3  data_1_000_pt2.nt  direct   NaN        321       4459   \n",
      "77     0  pp4.n3  data_1_000_pt2.nt  direct   NaN        304       4393   \n",
      "119    1  pp4.n3  data_1_000_pt2.nt  direct   NaN        297       4392   \n",
      "161    2  pp4.n3  data_1_000_pt2.nt  direct   NaN        312       4512   \n",
      "203    3  pp4.n3  data_1_000_pt2.nt  direct   NaN        290       4392   \n",
      "245    4  pp4.n3  data_1_000_pt2.nt  direct   NaN        298       4389   \n",
      "\n",
      "                id  total_time  \n",
      "35   pp4.n3,direct        4780  \n",
      "77   pp4.n3,direct        4697  \n",
      "119  pp4.n3,direct        4689  \n",
      "161  pp4.n3,direct        4824  \n",
      "203  pp4.n3,direct        4682  \n",
      "245  pp4.n3,direct        4687  \n",
      "\n",
      "pp3.n3 stdev: 62.42115026175023\n",
      "     run   query               data type  phase  netw_time  reas_time  \\\n",
      "27     0  pp3.n3  data_1_000_pt2.nt  fwd  total        324       4997   \n",
      "69     0  pp3.n3  data_1_000_pt2.nt  fwd  total        322       4882   \n",
      "111    1  pp3.n3  data_1_000_pt2.nt  fwd  total        313       4843   \n",
      "153    2  pp3.n3  data_1_000_pt2.nt  fwd  total        307       4852   \n",
      "195    3  pp3.n3  data_1_000_pt2.nt  fwd  total        322       4886   \n",
      "237    4  pp3.n3  data_1_000_pt2.nt  fwd  total        295       4820   \n",
      "\n",
      "             id  total_time  \n",
      "27   pp3.n3,fwd        5321  \n",
      "69   pp3.n3,fwd        5204  \n",
      "111  pp3.n3,fwd        5156  \n",
      "153  pp3.n3,fwd        5159  \n",
      "195  pp3.n3,fwd        5208  \n",
      "237  pp3.n3,fwd        5115  \n",
      "\n"
     ]
    }
   ],
   "source": [
    "# check_query_stdev(load_n3_times('fwd', 50), time_col='reas_time', limit=50)\n",
    "# check_query_stdev(load_n3_times('fwd', 100), time_col='reas_time', limit=50)\n",
    "\n",
    "check_query_stdev(load_n3_times('direct', \"1_000_pt2\"), time_col='reas_time', limit=50)\n",
    "check_query_stdev(load_n3_times('bwd', \"1_000_pt2\"), time_col='reas_time', limit=50)\n",
    "check_query_stdev(load_n3_times('fwd', \"1_000_pt2\"), time_col='reas_time', limit=50)"
   ]
  },
  {
   "cell_type": "markdown",
   "id": "bb7d1d06",
   "metadata": {},
   "source": [
    "## Check statistics"
   ]
  },
  {
   "cell_type": "markdown",
   "id": "9daf88cb",
   "metadata": {},
   "source": [
    "### Per query"
   ]
  },
  {
   "cell_type": "code",
   "execution_count": 28,
   "id": "d3da2f2e",
   "metadata": {},
   "outputs": [],
   "source": [
    "load_sparql_times_agg('jena', '10_000_pt2').to_csv(f\"{results_path}/../results/zika/per_query/jena-10_000.pt2.csv\")"
   ]
  },
  {
   "cell_type": "code",
   "execution_count": 29,
   "id": "b6bebd93",
   "metadata": {},
   "outputs": [],
   "source": [
    "load_n3_times_agg('direct', '10_000_pt2').to_csv(f\"{results_path}/../results/zika/per_query/n3_direct-10_000.pt2.csv\")"
   ]
  },
  {
   "cell_type": "code",
   "execution_count": 30,
   "id": "868d816a",
   "metadata": {},
   "outputs": [],
   "source": [
    "load_n3_times_agg('fwd', '10_000_pt2').to_csv(f\"{results_path}/../results/zika/per_query/n3_fwd-10_000.pt2.csv\")"
   ]
  },
  {
   "cell_type": "code",
   "execution_count": 31,
   "id": "02023e32",
   "metadata": {},
   "outputs": [],
   "source": [
    "load_n3_times_agg('bwd', '10_000_pt2').to_csv(f\"{results_path}/../results/zika/per_query/n3_bwd-10_000.pt2.csv\")"
   ]
  },
  {
   "cell_type": "markdown",
   "id": "bec1cbe1",
   "metadata": {},
   "source": [
    "### Overall"
   ]
  },
  {
   "cell_type": "code",
   "execution_count": null,
   "id": "aad2b30b",
   "metadata": {},
   "outputs": [],
   "source": [
    "# desc_path = \"/Users/wvw/git/n3/sparql2n3/SPARQL-to-N3/SPIN-to-N3/property-paths/results/gmark\"\n",
    "desc_path = \"/Users/wvw/git/n3/sparql2n3/SPARQL-to-N3/SPIN-to-N3/property-paths/results/zika\"\n",
    "\n",
    "def describe_sparql(system, data_size, to_file=True):\n",
    "    df = load_sparql_times_agg(system, data_size).describe()\n",
    "    if not to_file:\n",
    "        print(system, data_size, \"\\n\", df)\n",
    "    else:\n",
    "        df.to_csv(os.path.join(desc_path, f\"{system}-{data_size}.csv\"))\n",
    "    \n",
    "def describe_n3(type, data_size, to_file=True):\n",
    "    df = load_n3_times_agg(type, data_size).describe()\n",
    "    if not to_file:\n",
    "        print(\"n3\", type, data_size, \"\\n\", df)\n",
    "    else:\n",
    "        df.to_csv(os.path.join(desc_path, f\"n3_{type}-{data_size}.csv\"))"
   ]
  },
  {
   "cell_type": "code",
   "execution_count": null,
   "id": "2d2b4559",
   "metadata": {},
   "outputs": [],
   "source": [
    "describe_sparql('jena', \"1_000_pt2\")\n",
    "describe_sparql('jena', \"10_000_pt2\")\n",
    "# describe_sparql('jena', \"100_000_pt2\")"
   ]
  },
  {
   "cell_type": "code",
   "execution_count": 43,
   "id": "7efa27c0",
   "metadata": {},
   "outputs": [],
   "source": [
    "describe_n3('direct', \"1_000_pt2\")\n",
    "describe_n3('bwd', \"1_000_pt2\")\n",
    "describe_n3('fwd', \"1_000_pt2\")"
   ]
  },
  {
   "cell_type": "code",
   "execution_count": null,
   "id": "2136923e",
   "metadata": {},
   "outputs": [
    {
     "ename": "FileNotFoundError",
     "evalue": "[Errno 2] No such file or directory: '/Users/wvw/git/n3/sparql2n3/SPARQL-to-N3/SPIN-to-N3/property-paths/zika/results/jena/50/times_jena.csv'",
     "output_type": "error",
     "traceback": [
      "\u001b[0;31m---------------------------------------------------------------------------\u001b[0m",
      "\u001b[0;31mFileNotFoundError\u001b[0m                         Traceback (most recent call last)",
      "Cell \u001b[0;32mIn[40], line 2\u001b[0m\n\u001b[1;32m      1\u001b[0m \u001b[38;5;66;03m# describe_sparql('rdflib', 50)\u001b[39;00m\n\u001b[0;32m----> 2\u001b[0m describe_sparql(\u001b[38;5;124m'\u001b[39m\u001b[38;5;124mjena\u001b[39m\u001b[38;5;124m'\u001b[39m, \u001b[38;5;241m50\u001b[39m)\n",
      "Cell \u001b[0;32mIn[36], line 5\u001b[0m, in \u001b[0;36mdescribe_sparql\u001b[0;34m(system, data_size, to_file)\u001b[0m\n\u001b[1;32m      4\u001b[0m \u001b[38;5;28;01mdef\u001b[39;00m \u001b[38;5;21mdescribe_sparql\u001b[39m(system, data_size, to_file\u001b[38;5;241m=\u001b[39m\u001b[38;5;28;01mTrue\u001b[39;00m):\n\u001b[0;32m----> 5\u001b[0m     df \u001b[38;5;241m=\u001b[39m load_sparql_times_agg(system, data_size)\u001b[38;5;241m.\u001b[39mdescribe()\n\u001b[1;32m      6\u001b[0m     \u001b[38;5;28;01mif\u001b[39;00m \u001b[38;5;129;01mnot\u001b[39;00m to_file:\n\u001b[1;32m      7\u001b[0m         \u001b[38;5;28mprint\u001b[39m(system, data_size, \u001b[38;5;124m\"\u001b[39m\u001b[38;5;130;01m\\n\u001b[39;00m\u001b[38;5;124m\"\u001b[39m, df)\n",
      "Cell \u001b[0;32mIn[38], line 10\u001b[0m, in \u001b[0;36mload_sparql_times_agg\u001b[0;34m(system, data_size)\u001b[0m\n\u001b[1;32m      9\u001b[0m \u001b[38;5;28;01mdef\u001b[39;00m \u001b[38;5;21mload_sparql_times_agg\u001b[39m(system, data_size):\n\u001b[0;32m---> 10\u001b[0m     df_sparql \u001b[38;5;241m=\u001b[39m load_sparql_times(system, data_size)\n\u001b[1;32m     11\u001b[0m     df_sparql_agg \u001b[38;5;241m=\u001b[39m df_sparql\u001b[38;5;241m.\u001b[39mgroupby(\u001b[38;5;124m'\u001b[39m\u001b[38;5;124mquery\u001b[39m\u001b[38;5;124m'\u001b[39m)[[\u001b[38;5;124m'\u001b[39m\u001b[38;5;124mload_time\u001b[39m\u001b[38;5;124m'\u001b[39m, \u001b[38;5;124m'\u001b[39m\u001b[38;5;124mexec_time\u001b[39m\u001b[38;5;124m'\u001b[39m, \u001b[38;5;124m'\u001b[39m\u001b[38;5;124mtotal_time\u001b[39m\u001b[38;5;124m'\u001b[39m]]\u001b[38;5;241m.\u001b[39mmean()\u001b[38;5;241m.\u001b[39mreset_index()\n\u001b[1;32m     12\u001b[0m     df_sparql_agg[\u001b[38;5;124m'\u001b[39m\u001b[38;5;124mnr\u001b[39m\u001b[38;5;124m'\u001b[39m] \u001b[38;5;241m=\u001b[39m df_sparql_agg[\u001b[38;5;124m'\u001b[39m\u001b[38;5;124mquery\u001b[39m\u001b[38;5;124m'\u001b[39m]\u001b[38;5;241m.\u001b[39mstr\u001b[38;5;241m.\u001b[39mslice(\u001b[38;5;28mlen\u001b[39m(\u001b[38;5;124m\"\u001b[39m\u001b[38;5;124mquery-\u001b[39m\u001b[38;5;124m\"\u001b[39m), \u001b[38;5;241m-\u001b[39m\u001b[38;5;28mlen\u001b[39m(\u001b[38;5;124m\"\u001b[39m\u001b[38;5;124m.sparql\u001b[39m\u001b[38;5;124m\"\u001b[39m))\n",
      "Cell \u001b[0;32mIn[38], line 3\u001b[0m, in \u001b[0;36mload_sparql_times\u001b[0;34m(system, data_size)\u001b[0m\n\u001b[1;32m      1\u001b[0m \u001b[38;5;28;01mdef\u001b[39;00m \u001b[38;5;21mload_sparql_times\u001b[39m(system, data_size):\n\u001b[1;32m      2\u001b[0m     sparql_times \u001b[38;5;241m=\u001b[39m \u001b[38;5;124mf\u001b[39m\u001b[38;5;124m\"\u001b[39m\u001b[38;5;132;01m{\u001b[39;00mresults_path\u001b[38;5;132;01m}\u001b[39;00m\u001b[38;5;124m/results/\u001b[39m\u001b[38;5;132;01m{\u001b[39;00msystem\u001b[38;5;132;01m}\u001b[39;00m\u001b[38;5;124m/\u001b[39m\u001b[38;5;132;01m{\u001b[39;00mdata_size\u001b[38;5;132;01m}\u001b[39;00m\u001b[38;5;124m/times_\u001b[39m\u001b[38;5;132;01m{\u001b[39;00msystem\u001b[38;5;132;01m}\u001b[39;00m\u001b[38;5;124m.csv\u001b[39m\u001b[38;5;124m\"\u001b[39m\n\u001b[0;32m----> 3\u001b[0m     df_sparql \u001b[38;5;241m=\u001b[39m pd\u001b[38;5;241m.\u001b[39mread_csv(sparql_times)\n\u001b[1;32m      4\u001b[0m     df_sparql[\u001b[38;5;124m'\u001b[39m\u001b[38;5;124mtotal_time\u001b[39m\u001b[38;5;124m'\u001b[39m] \u001b[38;5;241m=\u001b[39m df_sparql[\u001b[38;5;124m'\u001b[39m\u001b[38;5;124mload_time\u001b[39m\u001b[38;5;124m'\u001b[39m] \u001b[38;5;241m+\u001b[39m df_sparql[\u001b[38;5;124m'\u001b[39m\u001b[38;5;124mexec_time\u001b[39m\u001b[38;5;124m'\u001b[39m]\n\u001b[1;32m      6\u001b[0m     \u001b[38;5;28;01mreturn\u001b[39;00m df_sparql\n",
      "File \u001b[0;32m~/anaconda3/lib/python3.11/site-packages/pandas/util/_decorators.py:211\u001b[0m, in \u001b[0;36mdeprecate_kwarg.<locals>._deprecate_kwarg.<locals>.wrapper\u001b[0;34m(*args, **kwargs)\u001b[0m\n\u001b[1;32m    209\u001b[0m     \u001b[38;5;28;01melse\u001b[39;00m:\n\u001b[1;32m    210\u001b[0m         kwargs[new_arg_name] \u001b[38;5;241m=\u001b[39m new_arg_value\n\u001b[0;32m--> 211\u001b[0m \u001b[38;5;28;01mreturn\u001b[39;00m func(\u001b[38;5;241m*\u001b[39margs, \u001b[38;5;241m*\u001b[39m\u001b[38;5;241m*\u001b[39mkwargs)\n",
      "File \u001b[0;32m~/anaconda3/lib/python3.11/site-packages/pandas/util/_decorators.py:331\u001b[0m, in \u001b[0;36mdeprecate_nonkeyword_arguments.<locals>.decorate.<locals>.wrapper\u001b[0;34m(*args, **kwargs)\u001b[0m\n\u001b[1;32m    325\u001b[0m \u001b[38;5;28;01mif\u001b[39;00m \u001b[38;5;28mlen\u001b[39m(args) \u001b[38;5;241m>\u001b[39m num_allow_args:\n\u001b[1;32m    326\u001b[0m     warnings\u001b[38;5;241m.\u001b[39mwarn(\n\u001b[1;32m    327\u001b[0m         msg\u001b[38;5;241m.\u001b[39mformat(arguments\u001b[38;5;241m=\u001b[39m_format_argument_list(allow_args)),\n\u001b[1;32m    328\u001b[0m         \u001b[38;5;167;01mFutureWarning\u001b[39;00m,\n\u001b[1;32m    329\u001b[0m         stacklevel\u001b[38;5;241m=\u001b[39mfind_stack_level(),\n\u001b[1;32m    330\u001b[0m     )\n\u001b[0;32m--> 331\u001b[0m \u001b[38;5;28;01mreturn\u001b[39;00m func(\u001b[38;5;241m*\u001b[39margs, \u001b[38;5;241m*\u001b[39m\u001b[38;5;241m*\u001b[39mkwargs)\n",
      "File \u001b[0;32m~/anaconda3/lib/python3.11/site-packages/pandas/io/parsers/readers.py:950\u001b[0m, in \u001b[0;36mread_csv\u001b[0;34m(filepath_or_buffer, sep, delimiter, header, names, index_col, usecols, squeeze, prefix, mangle_dupe_cols, dtype, engine, converters, true_values, false_values, skipinitialspace, skiprows, skipfooter, nrows, na_values, keep_default_na, na_filter, verbose, skip_blank_lines, parse_dates, infer_datetime_format, keep_date_col, date_parser, dayfirst, cache_dates, iterator, chunksize, compression, thousands, decimal, lineterminator, quotechar, quoting, doublequote, escapechar, comment, encoding, encoding_errors, dialect, error_bad_lines, warn_bad_lines, on_bad_lines, delim_whitespace, low_memory, memory_map, float_precision, storage_options)\u001b[0m\n\u001b[1;32m    935\u001b[0m kwds_defaults \u001b[38;5;241m=\u001b[39m _refine_defaults_read(\n\u001b[1;32m    936\u001b[0m     dialect,\n\u001b[1;32m    937\u001b[0m     delimiter,\n\u001b[0;32m   (...)\u001b[0m\n\u001b[1;32m    946\u001b[0m     defaults\u001b[38;5;241m=\u001b[39m{\u001b[38;5;124m\"\u001b[39m\u001b[38;5;124mdelimiter\u001b[39m\u001b[38;5;124m\"\u001b[39m: \u001b[38;5;124m\"\u001b[39m\u001b[38;5;124m,\u001b[39m\u001b[38;5;124m\"\u001b[39m},\n\u001b[1;32m    947\u001b[0m )\n\u001b[1;32m    948\u001b[0m kwds\u001b[38;5;241m.\u001b[39mupdate(kwds_defaults)\n\u001b[0;32m--> 950\u001b[0m \u001b[38;5;28;01mreturn\u001b[39;00m _read(filepath_or_buffer, kwds)\n",
      "File \u001b[0;32m~/anaconda3/lib/python3.11/site-packages/pandas/io/parsers/readers.py:605\u001b[0m, in \u001b[0;36m_read\u001b[0;34m(filepath_or_buffer, kwds)\u001b[0m\n\u001b[1;32m    602\u001b[0m _validate_names(kwds\u001b[38;5;241m.\u001b[39mget(\u001b[38;5;124m\"\u001b[39m\u001b[38;5;124mnames\u001b[39m\u001b[38;5;124m\"\u001b[39m, \u001b[38;5;28;01mNone\u001b[39;00m))\n\u001b[1;32m    604\u001b[0m \u001b[38;5;66;03m# Create the parser.\u001b[39;00m\n\u001b[0;32m--> 605\u001b[0m parser \u001b[38;5;241m=\u001b[39m TextFileReader(filepath_or_buffer, \u001b[38;5;241m*\u001b[39m\u001b[38;5;241m*\u001b[39mkwds)\n\u001b[1;32m    607\u001b[0m \u001b[38;5;28;01mif\u001b[39;00m chunksize \u001b[38;5;129;01mor\u001b[39;00m iterator:\n\u001b[1;32m    608\u001b[0m     \u001b[38;5;28;01mreturn\u001b[39;00m parser\n",
      "File \u001b[0;32m~/anaconda3/lib/python3.11/site-packages/pandas/io/parsers/readers.py:1442\u001b[0m, in \u001b[0;36mTextFileReader.__init__\u001b[0;34m(self, f, engine, **kwds)\u001b[0m\n\u001b[1;32m   1439\u001b[0m     \u001b[38;5;28mself\u001b[39m\u001b[38;5;241m.\u001b[39moptions[\u001b[38;5;124m\"\u001b[39m\u001b[38;5;124mhas_index_names\u001b[39m\u001b[38;5;124m\"\u001b[39m] \u001b[38;5;241m=\u001b[39m kwds[\u001b[38;5;124m\"\u001b[39m\u001b[38;5;124mhas_index_names\u001b[39m\u001b[38;5;124m\"\u001b[39m]\n\u001b[1;32m   1441\u001b[0m \u001b[38;5;28mself\u001b[39m\u001b[38;5;241m.\u001b[39mhandles: IOHandles \u001b[38;5;241m|\u001b[39m \u001b[38;5;28;01mNone\u001b[39;00m \u001b[38;5;241m=\u001b[39m \u001b[38;5;28;01mNone\u001b[39;00m\n\u001b[0;32m-> 1442\u001b[0m \u001b[38;5;28mself\u001b[39m\u001b[38;5;241m.\u001b[39m_engine \u001b[38;5;241m=\u001b[39m \u001b[38;5;28mself\u001b[39m\u001b[38;5;241m.\u001b[39m_make_engine(f, \u001b[38;5;28mself\u001b[39m\u001b[38;5;241m.\u001b[39mengine)\n",
      "File \u001b[0;32m~/anaconda3/lib/python3.11/site-packages/pandas/io/parsers/readers.py:1735\u001b[0m, in \u001b[0;36mTextFileReader._make_engine\u001b[0;34m(self, f, engine)\u001b[0m\n\u001b[1;32m   1733\u001b[0m     \u001b[38;5;28;01mif\u001b[39;00m \u001b[38;5;124m\"\u001b[39m\u001b[38;5;124mb\u001b[39m\u001b[38;5;124m\"\u001b[39m \u001b[38;5;129;01mnot\u001b[39;00m \u001b[38;5;129;01min\u001b[39;00m mode:\n\u001b[1;32m   1734\u001b[0m         mode \u001b[38;5;241m+\u001b[39m\u001b[38;5;241m=\u001b[39m \u001b[38;5;124m\"\u001b[39m\u001b[38;5;124mb\u001b[39m\u001b[38;5;124m\"\u001b[39m\n\u001b[0;32m-> 1735\u001b[0m \u001b[38;5;28mself\u001b[39m\u001b[38;5;241m.\u001b[39mhandles \u001b[38;5;241m=\u001b[39m get_handle(\n\u001b[1;32m   1736\u001b[0m     f,\n\u001b[1;32m   1737\u001b[0m     mode,\n\u001b[1;32m   1738\u001b[0m     encoding\u001b[38;5;241m=\u001b[39m\u001b[38;5;28mself\u001b[39m\u001b[38;5;241m.\u001b[39moptions\u001b[38;5;241m.\u001b[39mget(\u001b[38;5;124m\"\u001b[39m\u001b[38;5;124mencoding\u001b[39m\u001b[38;5;124m\"\u001b[39m, \u001b[38;5;28;01mNone\u001b[39;00m),\n\u001b[1;32m   1739\u001b[0m     compression\u001b[38;5;241m=\u001b[39m\u001b[38;5;28mself\u001b[39m\u001b[38;5;241m.\u001b[39moptions\u001b[38;5;241m.\u001b[39mget(\u001b[38;5;124m\"\u001b[39m\u001b[38;5;124mcompression\u001b[39m\u001b[38;5;124m\"\u001b[39m, \u001b[38;5;28;01mNone\u001b[39;00m),\n\u001b[1;32m   1740\u001b[0m     memory_map\u001b[38;5;241m=\u001b[39m\u001b[38;5;28mself\u001b[39m\u001b[38;5;241m.\u001b[39moptions\u001b[38;5;241m.\u001b[39mget(\u001b[38;5;124m\"\u001b[39m\u001b[38;5;124mmemory_map\u001b[39m\u001b[38;5;124m\"\u001b[39m, \u001b[38;5;28;01mFalse\u001b[39;00m),\n\u001b[1;32m   1741\u001b[0m     is_text\u001b[38;5;241m=\u001b[39mis_text,\n\u001b[1;32m   1742\u001b[0m     errors\u001b[38;5;241m=\u001b[39m\u001b[38;5;28mself\u001b[39m\u001b[38;5;241m.\u001b[39moptions\u001b[38;5;241m.\u001b[39mget(\u001b[38;5;124m\"\u001b[39m\u001b[38;5;124mencoding_errors\u001b[39m\u001b[38;5;124m\"\u001b[39m, \u001b[38;5;124m\"\u001b[39m\u001b[38;5;124mstrict\u001b[39m\u001b[38;5;124m\"\u001b[39m),\n\u001b[1;32m   1743\u001b[0m     storage_options\u001b[38;5;241m=\u001b[39m\u001b[38;5;28mself\u001b[39m\u001b[38;5;241m.\u001b[39moptions\u001b[38;5;241m.\u001b[39mget(\u001b[38;5;124m\"\u001b[39m\u001b[38;5;124mstorage_options\u001b[39m\u001b[38;5;124m\"\u001b[39m, \u001b[38;5;28;01mNone\u001b[39;00m),\n\u001b[1;32m   1744\u001b[0m )\n\u001b[1;32m   1745\u001b[0m \u001b[38;5;28;01massert\u001b[39;00m \u001b[38;5;28mself\u001b[39m\u001b[38;5;241m.\u001b[39mhandles \u001b[38;5;129;01mis\u001b[39;00m \u001b[38;5;129;01mnot\u001b[39;00m \u001b[38;5;28;01mNone\u001b[39;00m\n\u001b[1;32m   1746\u001b[0m f \u001b[38;5;241m=\u001b[39m \u001b[38;5;28mself\u001b[39m\u001b[38;5;241m.\u001b[39mhandles\u001b[38;5;241m.\u001b[39mhandle\n",
      "File \u001b[0;32m~/anaconda3/lib/python3.11/site-packages/pandas/io/common.py:856\u001b[0m, in \u001b[0;36mget_handle\u001b[0;34m(path_or_buf, mode, encoding, compression, memory_map, is_text, errors, storage_options)\u001b[0m\n\u001b[1;32m    851\u001b[0m \u001b[38;5;28;01melif\u001b[39;00m \u001b[38;5;28misinstance\u001b[39m(handle, \u001b[38;5;28mstr\u001b[39m):\n\u001b[1;32m    852\u001b[0m     \u001b[38;5;66;03m# Check whether the filename is to be opened in binary mode.\u001b[39;00m\n\u001b[1;32m    853\u001b[0m     \u001b[38;5;66;03m# Binary mode does not support 'encoding' and 'newline'.\u001b[39;00m\n\u001b[1;32m    854\u001b[0m     \u001b[38;5;28;01mif\u001b[39;00m ioargs\u001b[38;5;241m.\u001b[39mencoding \u001b[38;5;129;01mand\u001b[39;00m \u001b[38;5;124m\"\u001b[39m\u001b[38;5;124mb\u001b[39m\u001b[38;5;124m\"\u001b[39m \u001b[38;5;129;01mnot\u001b[39;00m \u001b[38;5;129;01min\u001b[39;00m ioargs\u001b[38;5;241m.\u001b[39mmode:\n\u001b[1;32m    855\u001b[0m         \u001b[38;5;66;03m# Encoding\u001b[39;00m\n\u001b[0;32m--> 856\u001b[0m         handle \u001b[38;5;241m=\u001b[39m \u001b[38;5;28mopen\u001b[39m(\n\u001b[1;32m    857\u001b[0m             handle,\n\u001b[1;32m    858\u001b[0m             ioargs\u001b[38;5;241m.\u001b[39mmode,\n\u001b[1;32m    859\u001b[0m             encoding\u001b[38;5;241m=\u001b[39mioargs\u001b[38;5;241m.\u001b[39mencoding,\n\u001b[1;32m    860\u001b[0m             errors\u001b[38;5;241m=\u001b[39merrors,\n\u001b[1;32m    861\u001b[0m             newline\u001b[38;5;241m=\u001b[39m\u001b[38;5;124m\"\u001b[39m\u001b[38;5;124m\"\u001b[39m,\n\u001b[1;32m    862\u001b[0m         )\n\u001b[1;32m    863\u001b[0m     \u001b[38;5;28;01melse\u001b[39;00m:\n\u001b[1;32m    864\u001b[0m         \u001b[38;5;66;03m# Binary mode\u001b[39;00m\n\u001b[1;32m    865\u001b[0m         handle \u001b[38;5;241m=\u001b[39m \u001b[38;5;28mopen\u001b[39m(handle, ioargs\u001b[38;5;241m.\u001b[39mmode)\n",
      "\u001b[0;31mFileNotFoundError\u001b[0m: [Errno 2] No such file or directory: '/Users/wvw/git/n3/sparql2n3/SPARQL-to-N3/SPIN-to-N3/property-paths/zika/results/jena/50/times_jena.csv'"
     ]
    }
   ],
   "source": [
    "describe_sparql('rdflib', 50)\n",
    "describe_sparql('jena', 50)\n",
    "describe_sparql('jena', 100)\n",
    "describe_sparql('rdf4j', 50)\n",
    "describe_sparql('rdf4j', 100)"
   ]
  },
  {
   "cell_type": "code",
   "execution_count": null,
   "id": "42f79ef7",
   "metadata": {},
   "outputs": [],
   "source": [
    "describe_n3('direct', 50)\n",
    "describe_n3('bwd', 50)\n",
    "describe_n3('fwd', 50)\n",
    "describe_n3('fwd', 100)"
   ]
  },
  {
   "cell_type": "code",
   "execution_count": null,
   "id": "f2ca9dcc",
   "metadata": {},
   "outputs": [],
   "source": [
    "import matplotlib.pyplot as plt\n",
    "\n",
    "def plot_systems(data_size, lim=None, incl_only=['n3_dir', 'n3_bwd', 'n3_fwd','jena', 'rdflib', 'rdf4j']):\n",
    "    fig, ax = plt.subplots()\n",
    "    if lim is not None:\n",
    "        ax.set_ylim(0, lim)\n",
    "\n",
    "    if 'n3_fwd' in incl_only:\n",
    "        load_n3_times_agg('fwd', data_size).plot(x='nr', y='reas_time', ax=ax, label='fwd')\n",
    "    if 'n3_bwd' in incl_only:\n",
    "        load_n3_times_agg('bwd', data_size).plot(x='nr', y='reas_time', ax=ax, label='bwd')\n",
    "    if 'n3_dir' in incl_only:\n",
    "        load_n3_times_agg('direct', data_size).plot(x='nr', y='reas_time', ax=ax, label='direct')\n",
    "\n",
    "    if 'jena' in incl_only:\n",
    "        load_sparql_times_agg('jena', data_size).plot(x='nr', y='exec_time', ax=ax, label='jena')\n",
    "    if 'rdflib' in incl_only:\n",
    "        load_sparql_times_agg('rdflib', data_size).plot(x='nr', y='exec_time', ax=ax, label='rdflib')\n",
    "    if 'rdf4j' in incl_only:\n",
    "        load_sparql_times_agg('rdf4j', data_size).plot(x='nr', y='exec_time', ax=ax, label='rdf4j')"
   ]
  },
  {
   "cell_type": "code",
   "execution_count": null,
   "id": "bc163d1d",
   "metadata": {},
   "outputs": [],
   "source": [
    "plot_systems(50, lim=4000)"
   ]
  },
  {
   "cell_type": "code",
   "execution_count": null,
   "id": "31bec355",
   "metadata": {},
   "outputs": [],
   "source": [
    "plot_systems(50, lim=500, incl_only=['n3_fwd', 'jena', 'rdf4j'])"
   ]
  },
  {
   "cell_type": "code",
   "execution_count": null,
   "id": "2d4e137e",
   "metadata": {},
   "outputs": [],
   "source": [
    "plot_systems(100, lim=1000, incl_only=['n3_fwd', 'jena', 'rdf4j'])"
   ]
  }
 ],
 "metadata": {
  "kernelspec": {
   "display_name": "base",
   "language": "python",
   "name": "python3"
  },
  "language_info": {
   "codemirror_mode": {
    "name": "ipython",
    "version": 3
   },
   "file_extension": ".py",
   "mimetype": "text/x-python",
   "name": "python",
   "nbconvert_exporter": "python",
   "pygments_lexer": "ipython3",
   "version": "3.11.5"
  }
 },
 "nbformat": 4,
 "nbformat_minor": 5
}
