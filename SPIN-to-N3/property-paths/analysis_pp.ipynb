{
 "cells": [
  {
   "cell_type": "code",
   "execution_count": 18,
   "id": "cb89d2a5",
   "metadata": {},
   "outputs": [],
   "source": [
    "import os\n",
    "import pandas as pd\n",
    "pd.options.mode.chained_assignment = None  # default='warn'"
   ]
  },
  {
   "cell_type": "code",
   "execution_count": 19,
   "id": "3be662a3",
   "metadata": {},
   "outputs": [],
   "source": [
    "# results_path = \"/Users/wvw/git/n3/sparql2n3/SPARQL-to-N3/gmark_50_new/mix\"\n",
    "results_path = \"/Users/wvw/git/n3/sparql2n3/SPARQL-to-N3/SPIN-to-N3/property-paths/zika\""
   ]
  },
  {
   "cell_type": "markdown",
   "id": "d70aed26",
   "metadata": {},
   "source": [
    "## Load results"
   ]
  },
  {
   "cell_type": "code",
   "execution_count": 20,
   "id": "f3fe4978",
   "metadata": {},
   "outputs": [],
   "source": [
    "def load_sparql_times(system, data_size):\n",
    "    sparql_times = f\"{results_path}/results/{system}/{data_size}/times_{system}.csv\"\n",
    "    df_sparql = pd.read_csv(sparql_times)\n",
    "    df_sparql['total_time'] = df_sparql['load_time'] + df_sparql['exec_time']\n",
    "    \n",
    "    return df_sparql\n",
    "\n",
    "\n",
    "def load_sparql_times_agg(system, data_size):\n",
    "    df_sparql = load_sparql_times(system, data_size)\n",
    "    df_sparql_agg = df_sparql.groupby('query')[['load_time', 'exec_time', 'total_time']].mean().reset_index()\n",
    "    df_sparql_agg['nr'] = df_sparql_agg['query'].str.slice(len(\"query-\"), -len(\".sparql\"))\n",
    "    \n",
    "    return df_sparql_agg"
   ]
  },
  {
   "cell_type": "code",
   "execution_count": 21,
   "id": "280a33cc",
   "metadata": {},
   "outputs": [],
   "source": [
    "def load_n3_times(type, data_size):\n",
    "    n3_times = f\"{results_path}/n3/results/{data_size}/times_n3.csv\"\n",
    "    df_n3 = pd.read_csv(n3_times)\n",
    "    \n",
    "    df_n3 = df_n3[df_n3['type']==type]\n",
    "    \n",
    "    df_n3['id'] = df_n3.apply(lambda x: f\"{x['query']},{x['type']}\", axis=1)\n",
    "    df_n3_failed = df_n3[df_n3['reas_time']==-1]['id']\n",
    "    df_n3_filt = df_n3[~df_n3['id'].isin(df_n3_failed)]\n",
    "    \n",
    "    df_n3_total = df_n3_filt[df_n3_filt['phase'].isna() | (df_n3_filt['phase']=='total')]\n",
    "    df_n3_total['total_time'] = df_n3_total['netw_time'] + df_n3_total['reas_time']\n",
    "    \n",
    "    return df_n3_total\n",
    "\n",
    "\n",
    "def load_n3_times_agg(type, data_size):\n",
    "    df_n3_total = load_n3_times(type, data_size)    \n",
    "    df_n3_agg = df_n3_total.groupby('query')[['netw_time', 'reas_time', 'total_time']].mean().reset_index()\n",
    "    df_n3_agg['nr'] = df_n3_agg['query'].str.slice(len(\"query-\"), -len(\".n3\"))\n",
    "\n",
    "    return df_n3_agg"
   ]
  },
  {
   "cell_type": "markdown",
   "id": "8080ef5a",
   "metadata": {},
   "source": [
    "## Check outliers"
   ]
  },
  {
   "cell_type": "code",
   "execution_count": 12,
   "id": "ddfc1109",
   "metadata": {},
   "outputs": [],
   "source": [
    "def check_query_stdev(df, time_col, limit=10):\n",
    "    for query in df['query'].unique():\n",
    "        df_query = df[df['query']==query]\n",
    "        stdev = df_query[time_col].describe()['std']\n",
    "        if stdev > limit:\n",
    "            print(query, \"stdev:\", stdev)\n",
    "            print(df_query)\n",
    "            print()"
   ]
  },
  {
   "cell_type": "code",
   "execution_count": 10,
   "id": "90a057b6",
   "metadata": {},
   "outputs": [],
   "source": [
    "# check_query_stdev(load_sparql_times('jena', 50), time_col='exec_time', limit=50)\n",
    "# check_query_stdev(load_sparql_times('jena', 100),time_col='exec_time',  limit=50)\n",
    "\n",
    "## - jena, data_size 100:\n",
    "# outliers (exec time): query-11 (100637 vs. avg. 153), query-2 (309138 vs. avg. 39551)\n",
    "# (replaced with averages)\n",
    "\n",
    "check_query_stdev(load_sparql_times('jena', \"1_000_pt2\"), time_col='exec_time', limit=50)"
   ]
  },
  {
   "cell_type": "code",
   "execution_count": null,
   "id": "f196e214",
   "metadata": {},
   "outputs": [],
   "source": [
    "check_query_stdev(load_sparql_times('rdflib', 50), time_col='exec_time', limit=50)"
   ]
  },
  {
   "cell_type": "code",
   "execution_count": null,
   "id": "ef928570",
   "metadata": {},
   "outputs": [],
   "source": [
    "check_query_stdev(load_sparql_times('rdf4j', 50), time_col='exec_time', limit=100)\n",
    "check_query_stdev(load_sparql_times('rdf4j', 100), time_col='exec_time', limit=100)"
   ]
  },
  {
   "cell_type": "code",
   "execution_count": 13,
   "id": "005ea266",
   "metadata": {},
   "outputs": [
    {
     "name": "stdout",
     "output_type": "stream",
     "text": [
      "pp4.n3 stdev: 51.37087371912869\n",
      "     run   query               data    type phase  netw_time  reas_time  \\\n",
      "35     0  pp4.n3  data_1_000_pt2.nt  direct   NaN        321       4459   \n",
      "77     0  pp4.n3  data_1_000_pt2.nt  direct   NaN        304       4393   \n",
      "119    1  pp4.n3  data_1_000_pt2.nt  direct   NaN        297       4392   \n",
      "161    2  pp4.n3  data_1_000_pt2.nt  direct   NaN        312       4512   \n",
      "203    3  pp4.n3  data_1_000_pt2.nt  direct   NaN        290       4392   \n",
      "245    4  pp4.n3  data_1_000_pt2.nt  direct   NaN        298       4389   \n",
      "\n",
      "                id  total_time  \n",
      "35   pp4.n3,direct        4780  \n",
      "77   pp4.n3,direct        4697  \n",
      "119  pp4.n3,direct        4689  \n",
      "161  pp4.n3,direct        4824  \n",
      "203  pp4.n3,direct        4682  \n",
      "245  pp4.n3,direct        4687  \n",
      "\n",
      "pp3.n3 stdev: 62.42115026175023\n",
      "     run   query               data type  phase  netw_time  reas_time  \\\n",
      "27     0  pp3.n3  data_1_000_pt2.nt  fwd  total        324       4997   \n",
      "69     0  pp3.n3  data_1_000_pt2.nt  fwd  total        322       4882   \n",
      "111    1  pp3.n3  data_1_000_pt2.nt  fwd  total        313       4843   \n",
      "153    2  pp3.n3  data_1_000_pt2.nt  fwd  total        307       4852   \n",
      "195    3  pp3.n3  data_1_000_pt2.nt  fwd  total        322       4886   \n",
      "237    4  pp3.n3  data_1_000_pt2.nt  fwd  total        295       4820   \n",
      "\n",
      "             id  total_time  \n",
      "27   pp3.n3,fwd        5321  \n",
      "69   pp3.n3,fwd        5204  \n",
      "111  pp3.n3,fwd        5156  \n",
      "153  pp3.n3,fwd        5159  \n",
      "195  pp3.n3,fwd        5208  \n",
      "237  pp3.n3,fwd        5115  \n",
      "\n"
     ]
    }
   ],
   "source": [
    "# check_query_stdev(load_n3_times('fwd', 50), time_col='reas_time', limit=50)\n",
    "# check_query_stdev(load_n3_times('fwd', 100), time_col='reas_time', limit=50)\n",
    "\n",
    "check_query_stdev(load_n3_times('direct', \"1_000_pt2\"), time_col='reas_time', limit=50)\n",
    "check_query_stdev(load_n3_times('bwd', \"1_000_pt2\"), time_col='reas_time', limit=50)\n",
    "check_query_stdev(load_n3_times('fwd', \"1_000_pt2\"), time_col='reas_time', limit=50)"
   ]
  },
  {
   "cell_type": "markdown",
   "id": "bb7d1d06",
   "metadata": {},
   "source": [
    "## Check statistics"
   ]
  },
  {
   "cell_type": "markdown",
   "id": "9daf88cb",
   "metadata": {},
   "source": [
    "### Per query"
   ]
  },
  {
   "cell_type": "code",
   "execution_count": 28,
   "id": "d3da2f2e",
   "metadata": {},
   "outputs": [],
   "source": [
    "load_sparql_times_agg('jena', '10_000_pt2').to_csv(f\"{results_path}/../results/zika/per_query/jena-10_000.pt2.csv\")"
   ]
  },
  {
   "cell_type": "code",
   "execution_count": 29,
   "id": "b6bebd93",
   "metadata": {},
   "outputs": [],
   "source": [
    "load_n3_times_agg('direct', '10_000_pt2').to_csv(f\"{results_path}/../results/zika/per_query/n3_direct-10_000.pt2.csv\")"
   ]
  },
  {
   "cell_type": "code",
   "execution_count": 30,
   "id": "868d816a",
   "metadata": {},
   "outputs": [],
   "source": [
    "load_n3_times_agg('fwd', '10_000_pt2').to_csv(f\"{results_path}/../results/zika/per_query/n3_fwd-10_000.pt2.csv\")"
   ]
  },
  {
   "cell_type": "code",
   "execution_count": 31,
   "id": "02023e32",
   "metadata": {},
   "outputs": [],
   "source": [
    "load_n3_times_agg('bwd', '10_000_pt2').to_csv(f\"{results_path}/../results/zika/per_query/n3_bwd-10_000.pt2.csv\")"
   ]
  },
  {
   "cell_type": "markdown",
   "id": "bec1cbe1",
   "metadata": {},
   "source": [
    "### Overall"
   ]
  },
  {
   "cell_type": "code",
   "execution_count": 32,
   "id": "aad2b30b",
   "metadata": {},
   "outputs": [],
   "source": [
    "# desc_path = \"/Users/wvw/git/n3/sparql2n3/SPARQL-to-N3/SPIN-to-N3/property-paths/results/gmark\"\n",
    "desc_path = \"/Users/wvw/git/n3/sparql2n3/SPARQL-to-N3/SPIN-to-N3/property-paths/results/zika\"\n",
    "\n",
    "def describe_sparql(system, data_size, to_file=True):\n",
    "    df = load_sparql_times_agg(system, data_size).describe()\n",
    "    if not to_file:\n",
    "        print(system, data_size, \"\\n\", df)\n",
    "    else:\n",
    "        df.to_csv(os.path.join(desc_path, f\"{system}-{data_size}.csv\"))\n",
    "    \n",
    "def describe_n3(type, data_size, to_file=True):\n",
    "    df = load_n3_times_agg(type, data_size).describe()\n",
    "    if not to_file:\n",
    "        print(\"n3\", type, data_size, \"\\n\", df)\n",
    "    else:\n",
    "        df.to_csv(os.path.join(desc_path, f\"n3_{type}-{data_size}.csv\"))"
   ]
  },
  {
   "cell_type": "code",
   "execution_count": 33,
   "id": "2d2b4559",
   "metadata": {},
   "outputs": [],
   "source": [
    "describe_sparql('jena', \"1_000_pt2\")\n",
    "describe_sparql('jena', \"10_000_pt2\")\n",
    "# describe_sparql('jena', \"100_000_pt2\")"
   ]
  },
  {
   "cell_type": "code",
   "execution_count": 35,
   "id": "7efa27c0",
   "metadata": {},
   "outputs": [],
   "source": [
    "describe_n3('direct', \"10_000_pt2\")\n",
    "describe_n3('bwd', \"10_000_pt2\")\n",
    "describe_n3('fwd', \"10_000_pt2\")"
   ]
  },
  {
   "cell_type": "code",
   "execution_count": null,
   "id": "2136923e",
   "metadata": {},
   "outputs": [],
   "source": [
    "describe_sparql('rdflib', 50)\n",
    "describe_sparql('jena', 50)\n",
    "describe_sparql('jena', 100)\n",
    "describe_sparql('rdf4j', 50)\n",
    "describe_sparql('rdf4j', 100)"
   ]
  },
  {
   "cell_type": "code",
   "execution_count": null,
   "id": "42f79ef7",
   "metadata": {},
   "outputs": [],
   "source": [
    "describe_n3('direct', 50)\n",
    "describe_n3('bwd', 50)\n",
    "describe_n3('fwd', 50)\n",
    "describe_n3('fwd', 100)"
   ]
  },
  {
   "cell_type": "code",
   "execution_count": null,
   "id": "f2ca9dcc",
   "metadata": {},
   "outputs": [],
   "source": [
    "import matplotlib.pyplot as plt\n",
    "\n",
    "def plot_systems(data_size, lim=None, incl_only=['n3_dir', 'n3_bwd', 'n3_fwd','jena', 'rdflib', 'rdf4j']):\n",
    "    fig, ax = plt.subplots()\n",
    "    if lim is not None:\n",
    "        ax.set_ylim(0, lim)\n",
    "\n",
    "    if 'n3_fwd' in incl_only:\n",
    "        load_n3_times_agg('fwd', data_size).plot(x='nr', y='reas_time', ax=ax, label='fwd')\n",
    "    if 'n3_bwd' in incl_only:\n",
    "        load_n3_times_agg('bwd', data_size).plot(x='nr', y='reas_time', ax=ax, label='bwd')\n",
    "    if 'n3_dir' in incl_only:\n",
    "        load_n3_times_agg('direct', data_size).plot(x='nr', y='reas_time', ax=ax, label='direct')\n",
    "\n",
    "    if 'jena' in incl_only:\n",
    "        load_sparql_times_agg('jena', data_size).plot(x='nr', y='exec_time', ax=ax, label='jena')\n",
    "    if 'rdflib' in incl_only:\n",
    "        load_sparql_times_agg('rdflib', data_size).plot(x='nr', y='exec_time', ax=ax, label='rdflib')\n",
    "    if 'rdf4j' in incl_only:\n",
    "        load_sparql_times_agg('rdf4j', data_size).plot(x='nr', y='exec_time', ax=ax, label='rdf4j')"
   ]
  },
  {
   "cell_type": "code",
   "execution_count": null,
   "id": "bc163d1d",
   "metadata": {},
   "outputs": [],
   "source": [
    "plot_systems(50, lim=4000)"
   ]
  },
  {
   "cell_type": "code",
   "execution_count": null,
   "id": "31bec355",
   "metadata": {},
   "outputs": [],
   "source": [
    "plot_systems(50, lim=500, incl_only=['n3_fwd', 'jena', 'rdf4j'])"
   ]
  },
  {
   "cell_type": "code",
   "execution_count": null,
   "id": "2d4e137e",
   "metadata": {},
   "outputs": [],
   "source": [
    "plot_systems(100, lim=1000, incl_only=['n3_fwd', 'jena', 'rdf4j'])"
   ]
  }
 ],
 "metadata": {
  "kernelspec": {
   "display_name": "base",
   "language": "python",
   "name": "python3"
  },
  "language_info": {
   "codemirror_mode": {
    "name": "ipython",
    "version": 3
   },
   "file_extension": ".py",
   "mimetype": "text/x-python",
   "name": "python",
   "nbconvert_exporter": "python",
   "pygments_lexer": "ipython3",
   "version": "3.11.5"
  }
 },
 "nbformat": 4,
 "nbformat_minor": 5
}
