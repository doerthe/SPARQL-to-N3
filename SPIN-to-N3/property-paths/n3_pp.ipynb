{
 "cells": [
  {
   "cell_type": "code",
   "execution_count": 18,
   "metadata": {},
   "outputs": [],
   "source": [
    "import os, subprocess"
   ]
  },
  {
   "cell_type": "code",
   "execution_count": 19,
   "metadata": {},
   "outputs": [],
   "source": [
    "def runNSave(cmd, path):\n",
    "    result = subprocess.run(cmd, stdout=subprocess.PIPE)\n",
    "    with open(path, 'w') as fh:\n",
    "        fh.write(result.stdout.decode(\"utf-8\"))"
   ]
  },
  {
   "cell_type": "code",
   "execution_count": null,
   "metadata": {},
   "outputs": [],
   "source": [
    "path = \"/Users/wvw/git/n3/sparql2n3/SPARQL-to-N3/other_systems/gmark-dominik/50\"\n",
    "for file in os.listdir(path):    \n",
    "    or_file = os.path.join(path, \"n3\", file)\n",
    "    norm_file = os.path.join(path, \"n3\", \"normalized\", file)\n",
    "    \n",
    "    print(file)\n",
    "    \n",
    "    # ground\n",
    "    runNSave([\"eye\", \"--quiet\", or_file, \"--no-qvars\", \"--nope\", \"--pass-all\"], norm_file)\n",
    "    \n",
    "    # normalize\n",
    "    runNSave([\"eye\", \"--quiet\", norm_file, \"aux_list.n3\", \"--query\", \"list-predicate.n3\", \"--quantify\", \"http://www.w3.org/2000/10/swap/var#\", \"--nope\"], norm_file)"
   ]
  },
  {
   "cell_type": "code",
   "execution_count": 24,
   "metadata": {},
   "outputs": [
    {
     "name": "stdout",
     "output_type": "stream",
     "text": [
      "query-0.n3\n"
     ]
    },
    {
     "name": "stderr",
     "output_type": "stream",
     "text": [
      "eye --quiet /Users/wvw/git/n3/sparql2n3/SPARQL-to-N3/other_systems/gmark-dominik/50/data.n3 property-paths-direct.n3 --query /Users/wvw/git/n3/sparql2n3/SPARQL-to-N3/other_systems/gmark-dominik/50/n3/normalized/query-0.n3 --nope\n",
      "EYE v10.24.10 (2024-10-02)\n",
      "SWI-Prolog version 9.2.7\n",
      "starting 29 [msec cputime] 41 [msec walltime]\n",
      "GET file:///Users/wvw/git/n3/sparql2n3/SPARQL-to-N3/other_systems/gmark-dominik/50/data.n3 SC=55\n",
      "GET file:///Users/wvw/git/n3/sparql2n3/SPARQL-to-N3/SPIN-to-N3/property-paths/property-paths-direct.n3 SC=14\n",
      "GET file:///Users/wvw/git/n3/sparql2n3/SPARQL-to-N3/other_systems/gmark-dominik/50/n3/normalized/query-0.n3 SC=1\n",
      "networking 7 [msec cputime] 10 [msec walltime]\n",
      "reasoning 196 [msec cputime] 200 [msec walltime]\n",
      "2025-02-19T14:50:57.780Z in=70 out=5 ent=5 step=82528 brake=1 inf=3223799 sec=0.232 inf/sec=13895685\n",
      "\n",
      "eye --quiet /Users/wvw/git/n3/sparql2n3/SPARQL-to-N3/other_systems/gmark-dominik/50/n3/normalized/query-0.n3 rule-creation.n3 --query rule-creation-backwards.n3 --nope\n",
      "EYE v10.24.10 (2024-10-02)\n",
      "SWI-Prolog version 9.2.7\n",
      "starting 25 [msec cputime] 28 [msec walltime]\n",
      "GET file:///Users/wvw/git/n3/sparql2n3/SPARQL-to-N3/other_systems/gmark-dominik/50/n3/normalized/query-0.n3 SC=1\n",
      "GET file:///Users/wvw/git/n3/sparql2n3/SPARQL-to-N3/SPIN-to-N3/property-paths/rule-creation.n3 SC=11\n",
      "GET file:///Users/wvw/git/n3/sparql2n3/SPARQL-to-N3/SPIN-to-N3/property-paths/rule-creation-backwards.n3 SC=1\n",
      "networking 7 [msec cputime] 9 [msec walltime]\n",
      "reasoning 13 [msec cputime] 13 [msec walltime]\n",
      "2025-02-19T14:50:57.844Z in=13 out=8 ent=16 step=57 brake=4 inf=284618 sec=0.045 inf/sec=6324844\n",
      "\n",
      "eye --quiet /Users/wvw/git/n3/sparql2n3/SPARQL-to-N3/other_systems/gmark-dominik/50/data.n3 tmp.n3 --query /Users/wvw/git/n3/sparql2n3/SPARQL-to-N3/other_systems/gmark-dominik/50/n3/normalized/query-0.n3 --nope\n",
      "EYE v10.24.10 (2024-10-02)\n",
      "SWI-Prolog version 9.2.7\n",
      "starting 24 [msec cputime] 28 [msec walltime]\n",
      "GET file:///Users/wvw/git/n3/sparql2n3/SPARQL-to-N3/other_systems/gmark-dominik/50/data.n3 SC=55\n",
      "GET file:///Users/wvw/git/n3/sparql2n3/SPARQL-to-N3/SPIN-to-N3/property-paths/tmp.n3 SC=8\n",
      "GET file:///Users/wvw/git/n3/sparql2n3/SPARQL-to-N3/other_systems/gmark-dominik/50/n3/normalized/query-0.n3 SC=1\n",
      "networking 8 [msec cputime] 9 [msec walltime]\n",
      "reasoning 116 [msec cputime] 117 [msec walltime]\n",
      "2025-02-19T14:50:58.010Z in=64 out=5 ent=5 step=82528 brake=1 inf=2323149 sec=0.148 inf/sec=15696953\n",
      "\n",
      "eye --quiet /Users/wvw/git/n3/sparql2n3/SPARQL-to-N3/other_systems/gmark-dominik/50/n3/normalized/query-0.n3 rule-creation.n3 --query rule-creation.n3 --nope\n",
      "EYE v10.24.10 (2024-10-02)\n",
      "SWI-Prolog version 9.2.7\n",
      "starting 25 [msec cputime] 28 [msec walltime]\n",
      "GET file:///Users/wvw/git/n3/sparql2n3/SPARQL-to-N3/other_systems/gmark-dominik/50/n3/normalized/query-0.n3 SC=1\n",
      "GET file:///Users/wvw/git/n3/sparql2n3/SPARQL-to-N3/SPIN-to-N3/property-paths/rule-creation.n3 SC=11\n",
      "GET file:///Users/wvw/git/n3/sparql2n3/SPARQL-to-N3/SPIN-to-N3/property-paths/rule-creation.n3 SC=11\n",
      "networking 12 [msec cputime] 14 [msec walltime]\n",
      "reasoning 33 [msec cputime] 34 [msec walltime]\n",
      "2025-02-19T14:50:58.100Z in=23 out=8 ent=16 step=70 brake=4 inf=611751 sec=0.070 inf/sec=8739300\n",
      "\n",
      "eye --quiet /Users/wvw/git/n3/sparql2n3/SPARQL-to-N3/other_systems/gmark-dominik/50/data.n3 tmp.n3 --query /Users/wvw/git/n3/sparql2n3/SPARQL-to-N3/other_systems/gmark-dominik/50/n3/normalized/query-0.n3 --nope\n",
      "EYE v10.24.10 (2024-10-02)\n",
      "SWI-Prolog version 9.2.7\n",
      "starting 25 [msec cputime] 28 [msec walltime]\n",
      "GET file:///Users/wvw/git/n3/sparql2n3/SPARQL-to-N3/other_systems/gmark-dominik/50/data.n3 SC=55\n",
      "GET file:///Users/wvw/git/n3/sparql2n3/SPARQL-to-N3/SPIN-to-N3/property-paths/tmp.n3 SC=8\n",
      "GET file:///Users/wvw/git/n3/sparql2n3/SPARQL-to-N3/other_systems/gmark-dominik/50/n3/normalized/query-0.n3 SC=1\n",
      "networking 8 [msec cputime] 9 [msec walltime]\n",
      "reasoning 2 [msec cputime] 2 [msec walltime]\n",
      "2025-02-19T14:50:58.152Z in=64 out=5 ent=55 step=245 brake=4 inf=166110 sec=0.035 inf/sec=4746000\n",
      "\n"
     ]
    }
   ],
   "source": [
    "path = \"/Users/wvw/git/n3/sparql2n3/SPARQL-to-N3/other_systems/gmark-dominik/50/\"\n",
    "files = list(os.listdir(os.path.join(path, \"n3\", \"normalized\")))\n",
    "files.sort()\n",
    "for file in files:\n",
    "    norm_file = os.path.join(path, \"n3\", \"normalized\", file)\n",
    "    data_path = os.path.join(path, \"data.n3\")\n",
    "    dir_res_file = os.path.join(path, \"n3\", \"results\", \"direct\", file)\n",
    "    bwd_res_file = os.path.join(path, \"n3\", \"results\", \"bwd\", file)\n",
    "    fwd_res_file = os.path.join(path, \"n3\", \"results\", \"fwd\", file)\n",
    "    tmp_file = \"tmp.n3\"\n",
    "    \n",
    "    print(file)\n",
    "    \n",
    "    # - direct \n",
    "    runNSave([\"eye\", data_path, \"property-paths-direct.n3\", \"--query\", norm_file, \"--nope\"], dir_res_file)\n",
    "    \n",
    "    # - backward\n",
    "    runNSave([\"eye\", norm_file, \"rule-creation.n3\", \"--query\", \"rule-creation-backwards.n3\", \"--nope\"], tmp_file)\n",
    "    runNSave([\"eye\", data_path, tmp_file, \"--query\", norm_file, \"--nope\"], bwd_res_file)\n",
    "        \n",
    "    # - forward\n",
    "    runNSave([\"eye\", norm_file, \"rule-creation.n3\", \"--query\", \"rule-creation.n3\", \"--nope\"], tmp_file)\n",
    "    runNSave([\"eye\", data_path, tmp_file, \"--query\", norm_file, \"--nope\"], fwd_res_file)\n",
    "    \n",
    "    break"
   ]
  }
 ],
 "metadata": {
  "kernelspec": {
   "display_name": "base",
   "language": "python",
   "name": "python3"
  },
  "language_info": {
   "codemirror_mode": {
    "name": "ipython",
    "version": 3
   },
   "file_extension": ".py",
   "mimetype": "text/x-python",
   "name": "python",
   "nbconvert_exporter": "python",
   "pygments_lexer": "ipython3",
   "version": "3.11.5"
  }
 },
 "nbformat": 4,
 "nbformat_minor": 2
}
