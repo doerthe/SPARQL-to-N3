{
 "cells": [
  {
   "cell_type": "code",
   "execution_count": null,
   "metadata": {},
   "outputs": [],
   "source": [
    "import os, subprocess, re"
   ]
  },
  {
   "cell_type": "code",
   "execution_count": null,
   "metadata": {},
   "outputs": [],
   "source": [
    "def runNSave(cmd, path, get_times=True):\n",
    "    # result = subprocess.run(cmd, stdout=subprocess.PIPE, stderr=subprocess.PIPE)\n",
    "    process = subprocess.Popen(cmd, stdout=subprocess.PIPE, stderr=subprocess.PIPE)\n",
    "    out, error = [ b.decode('UTF-8') for b in process.communicate() ]\n",
    "    out = out.rstrip()\n",
    "    # print(\"out:\", out)\n",
    "    # print(\"error:\", error)\n",
    "        \n",
    "    with open(path, 'w') as fh:\n",
    "        fh.write(out)\n",
    "    \n",
    "    if \"** ERROR **\" in error:\n",
    "        print(\"ERROR:\", error)\n",
    "    \n",
    "    elif get_times:\n",
    "        netw_time = int(re.search(\"networking \\d+ \\[msec cputime\\] (\\d+) \\[msec walltime\\]\", error).group(1))\n",
    "        reas_time = int(re.search(\"reasoning \\d+ \\[msec cputime\\] (\\d+) \\[msec walltime\\]\", error).group(1))\n",
    "        return netw_time, reas_time\n",
    "\n",
    "def record(times_file, query, data, type, phase, netw_time, reas_time):\n",
    "    times_file.write(f\"{query},{data},{type},{phase},{netw_time},{reas_time}\\n\")"
   ]
  },
  {
   "cell_type": "markdown",
   "metadata": {},
   "source": [
    "## Convert SPARQL PP into N3 PP"
   ]
  },
  {
   "cell_type": "code",
   "execution_count": 8,
   "metadata": {},
   "outputs": [],
   "source": [
    "# NOTE for now run with Python 3.11.5 (manually fixed issue with NegatedPropertySet & reverse paths)\n",
    "\n",
    "from rdflib.plugins.sparql import parser\n",
    "from convert_pp_sparql_n3 import To_N3_Visitor"
   ]
  },
  {
   "cell_type": "code",
   "execution_count": 9,
   "metadata": {},
   "outputs": [],
   "source": [
    "# rdflib.plugins.sparql.parserutils.py#279\n",
    "# add:\n",
    "# elif isinstance(t,CompValue) or isinstance(t,URIRef):\n",
    "#     res['part'] = t"
   ]
  },
  {
   "cell_type": "markdown",
   "metadata": {},
   "source": [
    "### Convert"
   ]
  },
  {
   "cell_type": "code",
   "execution_count": 10,
   "metadata": {},
   "outputs": [
    {
     "ename": "IndexError",
     "evalue": "list index out of range",
     "output_type": "error",
     "traceback": [
      "\u001b[31m---------------------------------------------------------------------------\u001b[39m",
      "\u001b[31mIndexError\u001b[39m                                Traceback (most recent call last)",
      "\u001b[36mCell\u001b[39m\u001b[36m \u001b[39m\u001b[32mIn[10]\u001b[39m\u001b[32m, line 12\u001b[39m\n\u001b[32m      9\u001b[39m query = parser.parseQuery(query)\n\u001b[32m     10\u001b[39m query = query[\u001b[32m1\u001b[39m]\n\u001b[32m---> \u001b[39m\u001b[32m12\u001b[39m \u001b[38;5;28mprint\u001b[39m(\u001b[43mTo_N3_Visitor\u001b[49m\u001b[43m(\u001b[49m\u001b[43m)\u001b[49m\u001b[43m.\u001b[49m\u001b[43mconvert\u001b[49m\u001b[43m(\u001b[49m\u001b[43mquery\u001b[49m\u001b[43m)\u001b[49m)\n",
      "\u001b[36mFile \u001b[39m\u001b[32m~/sin3code/SPARQL-to-N3/SPIN-to-N3/property-paths/convert_pp_sparql_n3.py:43\u001b[39m, in \u001b[36mTo_N3_Visitor.convert\u001b[39m\u001b[34m(self, query)\u001b[39m\n\u001b[32m     40\u001b[39m     \u001b[38;5;28mvars\u001b[39m = \u001b[33m\"\u001b[39m\u001b[33m( \u001b[39m\u001b[33m\"\u001b[39m + \u001b[33m\"\u001b[39m\u001b[33m \u001b[39m\u001b[33m\"\u001b[39m.join(\u001b[38;5;28mvars\u001b[39m) + \u001b[33m\"\u001b[39m\u001b[33m )\u001b[39m\u001b[33m\"\u001b[39m\n\u001b[32m     41\u001b[39m     head = \u001b[33m\"\u001b[39m\u001b[33m{\u001b[39m\u001b[33m \u001b[39m\u001b[33m\"\u001b[39m + \u001b[33mf\u001b[39m\u001b[33m\"\u001b[39m\u001b[33m_:x :result \u001b[39m\u001b[38;5;132;01m{\u001b[39;00m\u001b[38;5;28mvars\u001b[39m\u001b[38;5;132;01m}\u001b[39;00m\u001b[33m\"\u001b[39m + \u001b[33m\"\u001b[39m\u001b[33m }\u001b[39m\u001b[33m\"\u001b[39m\n\u001b[32m---> \u001b[39m\u001b[32m43\u001b[39m body = \u001b[38;5;28;43mself\u001b[39;49m\u001b[43m.\u001b[49m\u001b[43mvisit\u001b[49m\u001b[43m(\u001b[49m\u001b[43mquery\u001b[49m\u001b[43m[\u001b[49m\u001b[33;43m'\u001b[39;49m\u001b[33;43mwhere\u001b[39;49m\u001b[33;43m'\u001b[39;49m\u001b[43m]\u001b[49m\u001b[43m)\u001b[49m\n\u001b[32m     44\u001b[39m body = \u001b[33m\"\u001b[39m\u001b[33m{\u001b[39m\u001b[33m \u001b[39m\u001b[33m\"\u001b[39m + body + \u001b[33m\"\u001b[39m\u001b[33m }\u001b[39m\u001b[33m\"\u001b[39m\n\u001b[32m     46\u001b[39m \u001b[38;5;28;01mreturn\u001b[39;00m \u001b[33mf\u001b[39m\u001b[33m\"\u001b[39m\u001b[38;5;132;01m{\u001b[39;00mbody\u001b[38;5;132;01m}\u001b[39;00m\u001b[38;5;130;01m\\n\u001b[39;00m\u001b[33m => \u001b[39m\u001b[38;5;132;01m{\u001b[39;00mhead\u001b[38;5;132;01m}\u001b[39;00m\u001b[33m .\u001b[39m\u001b[33m\"\u001b[39m\n",
      "\u001b[36mFile \u001b[39m\u001b[32m~/sin3code/SPARQL-to-N3/SPIN-to-N3/property-paths/convert_pp_sparql_n3.py:63\u001b[39m, in \u001b[36mTo_N3_Visitor.visit\u001b[39m\u001b[34m(self, ast)\u001b[39m\n\u001b[32m     61\u001b[39m         \u001b[38;5;28;01mreturn\u001b[39;00m \u001b[33m\"\u001b[39m\u001b[33m . \u001b[39m\u001b[33m\"\u001b[39m.join(ret)\n\u001b[32m     62\u001b[39m     \u001b[38;5;28;01melse\u001b[39;00m:\n\u001b[32m---> \u001b[39m\u001b[32m63\u001b[39m         \u001b[38;5;28;01mreturn\u001b[39;00m \u001b[38;5;28;43mself\u001b[39;49m\u001b[43m.\u001b[49m\u001b[43mnode\u001b[49m\u001b[43m(\u001b[49m\u001b[43mast\u001b[49m\u001b[43m)\u001b[49m\n\u001b[32m     65\u001b[39m \u001b[38;5;28;01melse\u001b[39;00m:\n\u001b[32m     66\u001b[39m     \u001b[38;5;28;01mreturn\u001b[39;00m \u001b[38;5;28mself\u001b[39m.leaf(ast)\n",
      "\u001b[36mFile \u001b[39m\u001b[32m~/sin3code/SPARQL-to-N3/SPIN-to-N3/property-paths/convert_pp_sparql_n3.py:90\u001b[39m, in \u001b[36mTo_N3_Visitor.node\u001b[39m\u001b[34m(self, ast)\u001b[39m\n\u001b[32m     88\u001b[39m key = \u001b[38;5;28mlist\u001b[39m(ast.keys())[\u001b[32m0\u001b[39m]\n\u001b[32m     89\u001b[39m is_list = (\u001b[38;5;28misinstance\u001b[39m(ast[key], \u001b[38;5;28mlist\u001b[39m))\n\u001b[32m---> \u001b[39m\u001b[32m90\u001b[39m nodes = [ \u001b[38;5;28;43mself\u001b[39;49m\u001b[43m.\u001b[49m\u001b[43mvisit\u001b[49m\u001b[43m(\u001b[49m\u001b[43mj\u001b[49m\u001b[43m)\u001b[49m \u001b[38;5;28;01mfor\u001b[39;00m j \u001b[38;5;129;01min\u001b[39;00m ast[key] ] \u001b[38;5;28;01mif\u001b[39;00m is_list \u001b[38;5;28;01melse\u001b[39;00m [ \u001b[38;5;28mself\u001b[39m.visit(ast[key]) ]\n\u001b[32m     92\u001b[39m \u001b[38;5;28;01mif\u001b[39;00m infix \u001b[38;5;129;01mis\u001b[39;00m \u001b[38;5;129;01mnot\u001b[39;00m \u001b[38;5;28;01mNone\u001b[39;00m:\n\u001b[32m     93\u001b[39m     nodes_str = \u001b[33m\"\u001b[39m\u001b[33m(\u001b[39m\u001b[33m\"\u001b[39m + infix.join(nodes) + \u001b[33m\"\u001b[39m\u001b[33m)\u001b[39m\u001b[33m\"\u001b[39m \u001b[38;5;28;01mif\u001b[39;00m \u001b[38;5;28mlen\u001b[39m(nodes) > \u001b[32m1\u001b[39m \u001b[38;5;28;01melse\u001b[39;00m nodes[\u001b[32m0\u001b[39m]\n",
      "\u001b[36mFile \u001b[39m\u001b[32m~/sin3code/SPARQL-to-N3/SPIN-to-N3/property-paths/convert_pp_sparql_n3.py:60\u001b[39m, in \u001b[36mTo_N3_Visitor.visit\u001b[39m\u001b[34m(self, ast)\u001b[39m\n\u001b[32m     58\u001b[39m     \u001b[38;5;28;01mreturn\u001b[39;00m \u001b[38;5;28mself\u001b[39m.leaf(ast)        \n\u001b[32m     59\u001b[39m \u001b[38;5;28;01melif\u001b[39;00m ast.name == \u001b[33m'\u001b[39m\u001b[33mTriplesBlock\u001b[39m\u001b[33m'\u001b[39m:\n\u001b[32m---> \u001b[39m\u001b[32m60\u001b[39m     ret = [ \u001b[38;5;28;43mself\u001b[39;49m\u001b[43m.\u001b[49m\u001b[43mvisit\u001b[49m\u001b[43m(\u001b[49m\u001b[43mj\u001b[49m\u001b[43m)\u001b[49m \u001b[38;5;28;01mfor\u001b[39;00m j \u001b[38;5;129;01min\u001b[39;00m ast[\u001b[33m'\u001b[39m\u001b[33mtriples\u001b[39m\u001b[33m'\u001b[39m] ]\n\u001b[32m     61\u001b[39m     \u001b[38;5;28;01mreturn\u001b[39;00m \u001b[33m\"\u001b[39m\u001b[33m . \u001b[39m\u001b[33m\"\u001b[39m.join(ret)\n\u001b[32m     62\u001b[39m \u001b[38;5;28;01melse\u001b[39;00m:\n",
      "\u001b[36mFile \u001b[39m\u001b[32m~/sin3code/SPARQL-to-N3/SPIN-to-N3/property-paths/convert_pp_sparql_n3.py:50\u001b[39m, in \u001b[36mTo_N3_Visitor.visit\u001b[39m\u001b[34m(self, ast)\u001b[39m\n\u001b[32m     48\u001b[39m \u001b[38;5;28;01mdef\u001b[39;00m\u001b[38;5;250m \u001b[39m\u001b[34mvisit\u001b[39m(\u001b[38;5;28mself\u001b[39m, ast):\n\u001b[32m     49\u001b[39m     \u001b[38;5;28;01mif\u001b[39;00m \u001b[38;5;28mtype\u001b[39m(ast) == parser.ParseResults:\n\u001b[32m---> \u001b[39m\u001b[32m50\u001b[39m         ret = [ \u001b[38;5;28;43mself\u001b[39;49m\u001b[43m.\u001b[49m\u001b[43mvisit\u001b[49m\u001b[43m(\u001b[49m\u001b[43mj\u001b[49m\u001b[43m)\u001b[49m \u001b[38;5;28;01mfor\u001b[39;00m j \u001b[38;5;129;01min\u001b[39;00m ast.as_list() ]\n\u001b[32m     51\u001b[39m         \u001b[38;5;28;01mreturn\u001b[39;00m \u001b[33m\"\u001b[39m\u001b[33m . \u001b[39m\u001b[33m\"\u001b[39m.join([ \u001b[33m\"\u001b[39m\u001b[33m \u001b[39m\u001b[33m\"\u001b[39m.join(ret[n*\u001b[32m3\u001b[39m : (n+\u001b[32m1\u001b[39m)*\u001b[32m3\u001b[39m]) \u001b[38;5;28;01mfor\u001b[39;00m n \u001b[38;5;129;01min\u001b[39;00m \u001b[38;5;28mrange\u001b[39m(\u001b[38;5;28mint\u001b[39m(\u001b[38;5;28mlen\u001b[39m(ret)/\u001b[32m3\u001b[39m)) ])\n\u001b[32m     53\u001b[39m     \u001b[38;5;28;01melif\u001b[39;00m \u001b[38;5;28mtype\u001b[39m(ast) == \u001b[38;5;28mlist\u001b[39m:\n",
      "\u001b[36mFile \u001b[39m\u001b[32m~/sin3code/SPARQL-to-N3/SPIN-to-N3/property-paths/convert_pp_sparql_n3.py:63\u001b[39m, in \u001b[36mTo_N3_Visitor.visit\u001b[39m\u001b[34m(self, ast)\u001b[39m\n\u001b[32m     61\u001b[39m         \u001b[38;5;28;01mreturn\u001b[39;00m \u001b[33m\"\u001b[39m\u001b[33m . \u001b[39m\u001b[33m\"\u001b[39m.join(ret)\n\u001b[32m     62\u001b[39m     \u001b[38;5;28;01melse\u001b[39;00m:\n\u001b[32m---> \u001b[39m\u001b[32m63\u001b[39m         \u001b[38;5;28;01mreturn\u001b[39;00m \u001b[38;5;28;43mself\u001b[39;49m\u001b[43m.\u001b[49m\u001b[43mnode\u001b[49m\u001b[43m(\u001b[49m\u001b[43mast\u001b[49m\u001b[43m)\u001b[49m\n\u001b[32m     65\u001b[39m \u001b[38;5;28;01melse\u001b[39;00m:\n\u001b[32m     66\u001b[39m     \u001b[38;5;28;01mreturn\u001b[39;00m \u001b[38;5;28mself\u001b[39m.leaf(ast)\n",
      "\u001b[36mFile \u001b[39m\u001b[32m~/sin3code/SPARQL-to-N3/SPIN-to-N3/property-paths/convert_pp_sparql_n3.py:90\u001b[39m, in \u001b[36mTo_N3_Visitor.node\u001b[39m\u001b[34m(self, ast)\u001b[39m\n\u001b[32m     88\u001b[39m key = \u001b[38;5;28mlist\u001b[39m(ast.keys())[\u001b[32m0\u001b[39m]\n\u001b[32m     89\u001b[39m is_list = (\u001b[38;5;28misinstance\u001b[39m(ast[key], \u001b[38;5;28mlist\u001b[39m))\n\u001b[32m---> \u001b[39m\u001b[32m90\u001b[39m nodes = [ \u001b[38;5;28;43mself\u001b[39;49m\u001b[43m.\u001b[49m\u001b[43mvisit\u001b[49m\u001b[43m(\u001b[49m\u001b[43mj\u001b[49m\u001b[43m)\u001b[49m \u001b[38;5;28;01mfor\u001b[39;00m j \u001b[38;5;129;01min\u001b[39;00m ast[key] ] \u001b[38;5;28;01mif\u001b[39;00m is_list \u001b[38;5;28;01melse\u001b[39;00m [ \u001b[38;5;28mself\u001b[39m.visit(ast[key]) ]\n\u001b[32m     92\u001b[39m \u001b[38;5;28;01mif\u001b[39;00m infix \u001b[38;5;129;01mis\u001b[39;00m \u001b[38;5;129;01mnot\u001b[39;00m \u001b[38;5;28;01mNone\u001b[39;00m:\n\u001b[32m     93\u001b[39m     nodes_str = \u001b[33m\"\u001b[39m\u001b[33m(\u001b[39m\u001b[33m\"\u001b[39m + infix.join(nodes) + \u001b[33m\"\u001b[39m\u001b[33m)\u001b[39m\u001b[33m\"\u001b[39m \u001b[38;5;28;01mif\u001b[39;00m \u001b[38;5;28mlen\u001b[39m(nodes) > \u001b[32m1\u001b[39m \u001b[38;5;28;01melse\u001b[39;00m nodes[\u001b[32m0\u001b[39m]\n",
      "\u001b[36mFile \u001b[39m\u001b[32m~/sin3code/SPARQL-to-N3/SPIN-to-N3/property-paths/convert_pp_sparql_n3.py:63\u001b[39m, in \u001b[36mTo_N3_Visitor.visit\u001b[39m\u001b[34m(self, ast)\u001b[39m\n\u001b[32m     61\u001b[39m         \u001b[38;5;28;01mreturn\u001b[39;00m \u001b[33m\"\u001b[39m\u001b[33m . \u001b[39m\u001b[33m\"\u001b[39m.join(ret)\n\u001b[32m     62\u001b[39m     \u001b[38;5;28;01melse\u001b[39;00m:\n\u001b[32m---> \u001b[39m\u001b[32m63\u001b[39m         \u001b[38;5;28;01mreturn\u001b[39;00m \u001b[38;5;28;43mself\u001b[39;49m\u001b[43m.\u001b[49m\u001b[43mnode\u001b[49m\u001b[43m(\u001b[49m\u001b[43mast\u001b[49m\u001b[43m)\u001b[49m\n\u001b[32m     65\u001b[39m \u001b[38;5;28;01melse\u001b[39;00m:\n\u001b[32m     66\u001b[39m     \u001b[38;5;28;01mreturn\u001b[39;00m \u001b[38;5;28mself\u001b[39m.leaf(ast)\n",
      "\u001b[36mFile \u001b[39m\u001b[32m~/sin3code/SPARQL-to-N3/SPIN-to-N3/property-paths/convert_pp_sparql_n3.py:90\u001b[39m, in \u001b[36mTo_N3_Visitor.node\u001b[39m\u001b[34m(self, ast)\u001b[39m\n\u001b[32m     88\u001b[39m key = \u001b[38;5;28mlist\u001b[39m(ast.keys())[\u001b[32m0\u001b[39m]\n\u001b[32m     89\u001b[39m is_list = (\u001b[38;5;28misinstance\u001b[39m(ast[key], \u001b[38;5;28mlist\u001b[39m))\n\u001b[32m---> \u001b[39m\u001b[32m90\u001b[39m nodes = [ \u001b[38;5;28;43mself\u001b[39;49m\u001b[43m.\u001b[49m\u001b[43mvisit\u001b[49m\u001b[43m(\u001b[49m\u001b[43mj\u001b[49m\u001b[43m)\u001b[49m \u001b[38;5;28;01mfor\u001b[39;00m j \u001b[38;5;129;01min\u001b[39;00m ast[key] ] \u001b[38;5;28;01mif\u001b[39;00m is_list \u001b[38;5;28;01melse\u001b[39;00m [ \u001b[38;5;28mself\u001b[39m.visit(ast[key]) ]\n\u001b[32m     92\u001b[39m \u001b[38;5;28;01mif\u001b[39;00m infix \u001b[38;5;129;01mis\u001b[39;00m \u001b[38;5;129;01mnot\u001b[39;00m \u001b[38;5;28;01mNone\u001b[39;00m:\n\u001b[32m     93\u001b[39m     nodes_str = \u001b[33m\"\u001b[39m\u001b[33m(\u001b[39m\u001b[33m\"\u001b[39m + infix.join(nodes) + \u001b[33m\"\u001b[39m\u001b[33m)\u001b[39m\u001b[33m\"\u001b[39m \u001b[38;5;28;01mif\u001b[39;00m \u001b[38;5;28mlen\u001b[39m(nodes) > \u001b[32m1\u001b[39m \u001b[38;5;28;01melse\u001b[39;00m nodes[\u001b[32m0\u001b[39m]\n",
      "    \u001b[31m[... skipping similar frames: To_N3_Visitor.visit at line 63 (2 times), To_N3_Visitor.node at line 90 (1 times)]\u001b[39m\n",
      "\u001b[36mFile \u001b[39m\u001b[32m~/sin3code/SPARQL-to-N3/SPIN-to-N3/property-paths/convert_pp_sparql_n3.py:90\u001b[39m, in \u001b[36mTo_N3_Visitor.node\u001b[39m\u001b[34m(self, ast)\u001b[39m\n\u001b[32m     88\u001b[39m key = \u001b[38;5;28mlist\u001b[39m(ast.keys())[\u001b[32m0\u001b[39m]\n\u001b[32m     89\u001b[39m is_list = (\u001b[38;5;28misinstance\u001b[39m(ast[key], \u001b[38;5;28mlist\u001b[39m))\n\u001b[32m---> \u001b[39m\u001b[32m90\u001b[39m nodes = [ \u001b[38;5;28;43mself\u001b[39;49m\u001b[43m.\u001b[49m\u001b[43mvisit\u001b[49m\u001b[43m(\u001b[49m\u001b[43mj\u001b[49m\u001b[43m)\u001b[49m \u001b[38;5;28;01mfor\u001b[39;00m j \u001b[38;5;129;01min\u001b[39;00m ast[key] ] \u001b[38;5;28;01mif\u001b[39;00m is_list \u001b[38;5;28;01melse\u001b[39;00m [ \u001b[38;5;28mself\u001b[39m.visit(ast[key]) ]\n\u001b[32m     92\u001b[39m \u001b[38;5;28;01mif\u001b[39;00m infix \u001b[38;5;129;01mis\u001b[39;00m \u001b[38;5;129;01mnot\u001b[39;00m \u001b[38;5;28;01mNone\u001b[39;00m:\n\u001b[32m     93\u001b[39m     nodes_str = \u001b[33m\"\u001b[39m\u001b[33m(\u001b[39m\u001b[33m\"\u001b[39m + infix.join(nodes) + \u001b[33m\"\u001b[39m\u001b[33m)\u001b[39m\u001b[33m\"\u001b[39m \u001b[38;5;28;01mif\u001b[39;00m \u001b[38;5;28mlen\u001b[39m(nodes) > \u001b[32m1\u001b[39m \u001b[38;5;28;01melse\u001b[39;00m nodes[\u001b[32m0\u001b[39m]\n",
      "\u001b[36mFile \u001b[39m\u001b[32m~/sin3code/SPARQL-to-N3/SPIN-to-N3/property-paths/convert_pp_sparql_n3.py:63\u001b[39m, in \u001b[36mTo_N3_Visitor.visit\u001b[39m\u001b[34m(self, ast)\u001b[39m\n\u001b[32m     61\u001b[39m         \u001b[38;5;28;01mreturn\u001b[39;00m \u001b[33m\"\u001b[39m\u001b[33m . \u001b[39m\u001b[33m\"\u001b[39m.join(ret)\n\u001b[32m     62\u001b[39m     \u001b[38;5;28;01melse\u001b[39;00m:\n\u001b[32m---> \u001b[39m\u001b[32m63\u001b[39m         \u001b[38;5;28;01mreturn\u001b[39;00m \u001b[38;5;28;43mself\u001b[39;49m\u001b[43m.\u001b[49m\u001b[43mnode\u001b[49m\u001b[43m(\u001b[49m\u001b[43mast\u001b[49m\u001b[43m)\u001b[49m\n\u001b[32m     65\u001b[39m \u001b[38;5;28;01melse\u001b[39;00m:\n\u001b[32m     66\u001b[39m     \u001b[38;5;28;01mreturn\u001b[39;00m \u001b[38;5;28mself\u001b[39m.leaf(ast)\n",
      "\u001b[36mFile \u001b[39m\u001b[32m~/sin3code/SPARQL-to-N3/SPIN-to-N3/property-paths/convert_pp_sparql_n3.py:88\u001b[39m, in \u001b[36mTo_N3_Visitor.node\u001b[39m\u001b[34m(self, ast)\u001b[39m\n\u001b[32m     85\u001b[39m \u001b[38;5;28;01mif\u001b[39;00m \u001b[33m'\u001b[39m\u001b[33mmod\u001b[39m\u001b[33m'\u001b[39m \u001b[38;5;129;01min\u001b[39;00m ast.keys():\n\u001b[32m     86\u001b[39m     tag = ( \u001b[33m\"\u001b[39m\u001b[33m \u001b[39m\u001b[33m'\u001b[39m\u001b[33m\"\u001b[39m + ast[\u001b[33m'\u001b[39m\u001b[33mmod\u001b[39m\u001b[33m'\u001b[39m] + \u001b[33m\"\u001b[39m\u001b[33m'\u001b[39m\u001b[33m \u001b[39m\u001b[33m\"\u001b[39m, \u001b[33m\"\u001b[39m\u001b[33mright\u001b[39m\u001b[33m\"\u001b[39m )\n\u001b[32m---> \u001b[39m\u001b[32m88\u001b[39m key = \u001b[38;5;28;43mlist\u001b[39;49m\u001b[43m(\u001b[49m\u001b[43mast\u001b[49m\u001b[43m.\u001b[49m\u001b[43mkeys\u001b[49m\u001b[43m(\u001b[49m\u001b[43m)\u001b[49m\u001b[43m)\u001b[49m\u001b[43m[\u001b[49m\u001b[32;43m0\u001b[39;49m\u001b[43m]\u001b[49m\n\u001b[32m     89\u001b[39m is_list = (\u001b[38;5;28misinstance\u001b[39m(ast[key], \u001b[38;5;28mlist\u001b[39m))\n\u001b[32m     90\u001b[39m nodes = [ \u001b[38;5;28mself\u001b[39m.visit(j) \u001b[38;5;28;01mfor\u001b[39;00m j \u001b[38;5;129;01min\u001b[39;00m ast[key] ] \u001b[38;5;28;01mif\u001b[39;00m is_list \u001b[38;5;28;01melse\u001b[39;00m [ \u001b[38;5;28mself\u001b[39m.visit(ast[key]) ]\n",
      "\u001b[31mIndexError\u001b[39m: list index out of range"
     ]
    }
   ],
   "source": [
    "# convert single query\n",
    "\n",
    "query = \"SELECT ?x WHERE { ?x (:p1/:p2)* ?z ; !(:p3|:p4|:p5) ?a }\"\n",
    "query = \"PREFIX : <http://example.org/gmark/> \" + \\\n",
    "    \"SELECT * WHERE { ?x0 !(^:p1|:p2) ?x3 } \"\n",
    "    # \"SELECT * WHERE { ?x0 ((^:p1/:p2*)?/:p3)+ ?x3 } \"\n",
    "    # \"SELECT * WHERE { ?x0 !(:p1|^:p2|:p3) ?x3 }\"\n",
    "\n",
    "query = parser.parseQuery(query)\n",
    "query = query[1]\n",
    "\n",
    "print(To_N3_Visitor().convert(query))"
   ]
  },
  {
   "cell_type": "code",
   "execution_count": null,
   "metadata": {},
   "outputs": [],
   "source": [
    "# convert query folder\n",
    "\n",
    "import os\n",
    "\n",
    "visitor = To_N3_Visitor()\n",
    "\n",
    "path = \"/Users/wvw/git/n3/sparql2n3/SPARQL-to-N3/gmark_50_new/mix\"\n",
    "files = list(os.listdir(path))\n",
    "files.sort()\n",
    "for file in files:\n",
    "    if not file.endswith(\".sparql\"):\n",
    "        continue\n",
    "    print(file)\n",
    "    with open(os.path.join(path, file), 'r') as fh:\n",
    "        query = fh.read()\n",
    "        query = parser.parseQuery(query)\n",
    "        query = query[1]\n",
    "        \n",
    "        conv = visitor.convert(query)\n",
    "        conv = \"@prefix : <http://example.org/gmark/> .\\n\\n\" + conv\n",
    "        # print(conv)\n",
    "        \n",
    "        n3_file = file[0:file.index(\".\")] + \".n3\"\n",
    "        with open(os.path.join(path, \"n3\", n3_file), 'w') as fh2:\n",
    "            fh2.write(conv)\n",
    "            \n",
    "        # print(\"\\n\")"
   ]
  },
  {
   "cell_type": "markdown",
   "metadata": {},
   "source": [
    "## Run SPARQL PP"
   ]
  },
  {
   "cell_type": "code",
   "execution_count": 11,
   "metadata": {},
   "outputs": [],
   "source": [
    "from resCSV2N3 import convert as csv2n3\n",
    "# from rdflib import Graph"
   ]
  },
  {
   "cell_type": "code",
   "execution_count": 13,
   "metadata": {},
   "outputs": [],
   "source": [
    "def exec_sparql(query_file, data_file, result_file):\n",
    "    process = subprocess.Popen(['java', '-jar', \"../test/run/sparql.jar\", \"-n3\", data_file, \"-query\", query_file], stdout=subprocess.PIPE, stderr=subprocess.PIPE)\n",
    "    out, error = [ b.decode('UTF-8') for b in process.communicate() ]\n",
    "    if error.strip() != \"\":\n",
    "        print(error)\n",
    "    else:   \n",
    "        with open(result_file, 'w') as fh:\n",
    "            fh.write(out.strip())\n",
    "            \n",
    "    # g = Graph(); g.parse(data_file)\n",
    "    # g.query(open(query_file, 'r').read())"
   ]
  },
  {
   "cell_type": "code",
   "execution_count": 15,
   "metadata": {},
   "outputs": [],
   "source": [
    "# run single query\n",
    "\n",
    "# path = \"/Users/wvw/git/n3/sparql2n3/SPARQL-to-N3/gmark_50_new/mix\"\n",
    "path = \"test\"\n",
    "file = \"test3.sparql\"\n",
    "name = file[:file.index(\".\")]\n",
    "query_file = os.path.join(path, file)\n",
    "data_file = os.path.join(path, \"data3.n3\")\n",
    "result_file_csv = os.path.join(path, f\"{name}_results_sparql.csv\")\n",
    "\n",
    "exec_sparql(query_file, data_file, result_file_csv)"
   ]
  },
  {
   "cell_type": "code",
   "execution_count": 17,
   "metadata": {},
   "outputs": [
    {
     "name": "stdout",
     "output_type": "stream",
     "text": [
      "query-0.sparql\n"
     ]
    }
   ],
   "source": [
    "# run query folder\n",
    "\n",
    "path = \"/Users/dorthearndt/sin3code/SPARQL-to-N3/gmark_50_new/mix\"\n",
    "files = list(os.listdir(path))\n",
    "files.sort()\n",
    "for file in files:\n",
    "    if not file.endswith(\".sparql\"):\n",
    "        continue\n",
    "    print(file)\n",
    "    \n",
    "    name = file[:file.index(\".\")]\n",
    "    query_file = os.path.join(path, file)\n",
    "    data_file = os.path.join(path, \"data.n3\")\n",
    "    result_file_csv = os.path.join(path, \"results\", f\"{name}.csv\")\n",
    "    result_file_n3 = os.path.join(path, \"results\", f\"{name}.n3\")\n",
    "    \n",
    "    exec_sparql(query_file, data_file, result_file_csv)\n",
    "    \n",
    "    csv2n3(file=result_file_csv , ordered=False, out=result_file_n3)\n",
    "        \n",
    "    break"
   ]
  },
  {
   "cell_type": "markdown",
   "metadata": {},
   "source": [
    "## Run N3 PP"
   ]
  },
  {
   "cell_type": "markdown",
   "metadata": {},
   "source": [
    "### Ground & normalize"
   ]
  },
  {
   "cell_type": "code",
   "execution_count": null,
   "metadata": {},
   "outputs": [],
   "source": [
    "# normalize single file\n",
    "\n",
    "path = \"test\"\n",
    "or_file = os.path.join(path, \"test3.n3\")\n",
    "norm_file = os.path.join(path, \"test3_norm.n3\")\n",
    "\n",
    "# ground\n",
    "runNSave([\"eye\", \"--quiet\", or_file, \"--no-qvars\", \"--nope\", \"--pass-all\"], norm_file, get_times=False)\n",
    "    \n",
    "# normalize\n",
    "runNSave([\"eye\", \"--quiet\", norm_file, \"aux_list.n3\", \"--query\", \"list-predicate.n3\", \"--quantify\", \"http://www.w3.org/2000/10/swap/var#\", \"--nope\"], norm_file, get_times=False)"
   ]
  },
  {
   "cell_type": "code",
   "execution_count": null,
   "metadata": {},
   "outputs": [],
   "source": [
    "# normalize entire folder\n",
    "\n",
    "# path = \"/Users/wvw/git/n3/sparql2n3/SPARQL-to-N3/other_systems/gmark-dominik/50/\"\n",
    "path = \"/Users/dorthearndt/sin3code/SPARQL-to-N3/gmark_50_new/mix\"\n",
    "for file in os.listdir(path):    \n",
    "    if not file.endswith(\".sparql\"):\n",
    "        continue\n",
    "    \n",
    "    file = file[:file.index(\".\")] + \".n3\"\n",
    "    or_file = os.path.join(path, \"n3\", file)\n",
    "    norm_file = os.path.join(path, \"n3\", \"normalized\", file)\n",
    "    \n",
    "    print(file)\n",
    "    \n",
    "    # ground\n",
    "    runNSave([\"eye\", \"--quiet\", or_file, \"--no-qvars\", \"--nope\", \"--pass-all\"], norm_file, get_times=False)\n",
    "    \n",
    "    # normalize\n",
    "    runNSave([\"eye\", \"--quiet\", norm_file, \"aux_list.n3\", \"--query\", \"list-predicate.n3\", \"--quantify\", \"http://www.w3.org/2000/10/swap/var#\", \"--nope\"], norm_file, get_times=False)"
   ]
  },
  {
   "cell_type": "markdown",
   "metadata": {},
   "source": [
    "### Run"
   ]
  },
  {
   "cell_type": "code",
   "execution_count": null,
   "metadata": {},
   "outputs": [],
   "source": [
    "# run single rule\n",
    "\n",
    "path = \"test\"\n",
    "norm_file = os.path.join(path, \"test3_norm.n3\")\n",
    "data_path = os.path.join(path, \"data3.n3\")\n",
    "rules_file = os.path.join(path, \"test3_rule_creation.n3\")\n",
    "res_file = os.path.join(path, \"test3_results.n3\")\n",
    "\n",
    "# netw_time, reas_time = runNSave([\"eye\", data_path, \"property-paths-direct.n3\", \"--query\", norm_file, \"--nope\"], res_file)\n",
    "\n",
    "netw_time, reas_time = runNSave([\"eye\", norm_file, \"rule-creation.n3\", \"--query\", \"rule-creation.n3\", \"--nope\"], rules_file)\n",
    "netw_time2, reas_time2 = runNSave([\"eye\", data_path, rules_file, \"--query\", norm_file, \"--nope\"], res_file)"
   ]
  },
  {
   "cell_type": "code",
   "execution_count": null,
   "metadata": {},
   "outputs": [],
   "source": [
    "# run folder\n",
    "\n",
    "# path = \"/Users/wvw/git/n3/sparql2n3/SPARQL-to-N3/other_systems/gmark-dominik/50/\"\n",
    "path = \"/Users/dorthearndt/sin3code/SPARQL-to-N3/gmark_50_new/mix\"\n",
    "\n",
    "times_file = open(os.path.join(path, \"n3\", \"results\", \"times.csv\"), 'w')\n",
    "times_file.write(\"query,data,type,phase,netw_time,reas_time\\n\")\n",
    "\n",
    "files = list(os.listdir(os.path.join(path, \"n3\", \"normalized\")))\n",
    "files.sort()\n",
    "for file in files:\n",
    "    if not file.startswith(\"query\") and not file.endswith(\".n3\"):\n",
    "        continue\n",
    "    \n",
    "    name = file[:file.index(\".\")]\n",
    "    norm_file = os.path.join(path, \"n3\", \"normalized\", file)\n",
    "    data_file = \"data.n3\"\n",
    "    data_path = os.path.join(path, data_file)\n",
    "    dir_res_file = os.path.join(path, \"n3\", \"results\", \"direct\", file)\n",
    "    bwd_res_file = os.path.join(path, \"n3\", \"results\", \"bwd\", file)\n",
    "    fwd_res_file = os.path.join(path, \"n3\", \"results\", \"fwd\", file)\n",
    "    \n",
    "    print(norm_file)\n",
    "    \n",
    "    # - direct \n",
    "    netw_time, reas_time = runNSave([\"eye\", data_path, \"property-paths-direct.n3\", \"--query\", norm_file, \"--nope\"], dir_res_file)\n",
    "    record(times_file, file, data_file, 'direct', 'n/a', netw_time, reas_time)\n",
    "    \n",
    "    # - backward\n",
    "    tmp_file = os.path.join(path, \"n3\", \"gen\", f\"{name}_bwd.n3\")\n",
    "    netw_time1, reas_time1 = runNSave([\"eye\", norm_file, \"rule-creation.n3\", \"--query\", \"rule-creation-backwards.n3\", \"--nope\"], tmp_file)\n",
    "    record(times_file, file, data_file, 'bwd', 'create', netw_time1, reas_time1)\n",
    "    netw_time2, reas_time2 = runNSave([\"eye\", data_path, tmp_file, \"--query\", norm_file, \"--nope\"], bwd_res_file)\n",
    "    record(times_file, file, data_file, 'bwd', 'run', netw_time2, reas_time2)\n",
    "    record(times_file, file, data_file, 'bwd', 'total', netw_time1+netw_time2, reas_time1+reas_time2)\n",
    "        \n",
    "    # - forward\n",
    "    tmp_file = os.path.join(path, \"n3\", \"gen\", f\"{name}_fwd.n3\")\n",
    "    netw_time1, reas_time1 = runNSave([\"eye\", norm_file, \"rule-creation.n3\", \"--query\", \"rule-creation.n3\", \"--nope\"], tmp_file)\n",
    "    record(times_file, file, data_file, 'fwd', 'create', netw_time1, reas_time1)\n",
    "    netw_time2, reas_time2 = runNSave([\"eye\", data_path, tmp_file, \"--query\", norm_file, \"--nope\"], fwd_res_file)\n",
    "    record(times_file, file, data_file, 'fwd', 'run', netw_time2, reas_time2)\n",
    "    record(times_file, file, data_file, 'fwd', 'total', netw_time1+netw_time2, reas_time1+reas_time2)\n",
    "    \n",
    "    times_file.flush()"
   ]
  },
  {
   "cell_type": "markdown",
   "metadata": {},
   "source": [
    "## Compare results"
   ]
  },
  {
   "cell_type": "code",
   "execution_count": 18,
   "metadata": {},
   "outputs": [],
   "source": [
    "def compare_results(file1, file2):\n",
    "    process = subprocess.Popen(['java', '-jar', \"compare_res.jar\", file1, file2], stdout=subprocess.PIPE, stderr=subprocess.PIPE)\n",
    "    out, error = [ b.decode('UTF-8') for b in process.communicate() ]\n",
    "    print(out)"
   ]
  },
  {
   "cell_type": "code",
   "execution_count": null,
   "metadata": {},
   "outputs": [
    {
     "name": "stdout",
     "output_type": "stream",
     "text": [
      "query-0.n3\n",
      "different numbers of results: 5 <> 55\n",
      "not found in result2: ( ( \"x0\"^^http://www.w3.org/2001/XMLSchema#string, http://example.org/gmark/46 ), ( \"x3\"^^http://www.w3.org/2001/XMLSchema#string, http://example.org/gmark/46 ) )\n",
      "not found in result2: ( ( \"x0\"^^http://www.w3.org/2001/XMLSchema#string, http://example.org/gmark/48 ), ( \"x3\"^^http://www.w3.org/2001/XMLSchema#string, http://example.org/gmark/48 ) )\n",
      "not found in result2: ( ( \"x0\"^^http://www.w3.org/2001/XMLSchema#string, http://example.org/gmark/47 ), ( \"x3\"^^http://www.w3.org/2001/XMLSchema#string, http://example.org/gmark/47 ) )\n",
      "not found in result2: ( ( \"x0\"^^http://www.w3.org/2001/XMLSchema#string, http://example.org/gmark/49 ), ( \"x3\"^^http://www.w3.org/2001/XMLSchema#string, http://example.org/gmark/49 ) )\n",
      "not found in result2: ( ( \"x0\"^^http://www.w3.org/2001/XMLSchema#string, http://example.org/gmark/45 ), ( \"x3\"^^http://www.w3.org/2001/XMLSchema#string, http://example.org/gmark/45 ) )\n",
      "not found in result1: ( ( \"x0\"^^http://www.w3.org/2001/XMLSchema#string, http://example.org/gmark/14 ), ( \"x3\"^^http://www.w3.org/2001/XMLSchema#string, http://example.org/gmark/29 ) )\n",
      "not found in result1: ( ( \"x0\"^^http://www.w3.org/2001/XMLSchema#string, http://example.org/gmark/18 ), ( \"x3\"^^http://www.w3.org/2001/XMLSchema#string, http://example.org/gmark/28 ) )\n",
      "not found in result1: ( ( \"x0\"^^http://www.w3.org/2001/XMLSchema#string, http://example.org/gmark/14 ), ( \"x3\"^^http://www.w3.org/2001/XMLSchema#string, http://example.org/gmark/27 ) )\n",
      "not found in result1: ( ( \"x0\"^^http://www.w3.org/2001/XMLSchema#string, http://example.org/gmark/27 ), ( \"x3\"^^http://www.w3.org/2001/XMLSchema#string, http://example.org/gmark/45 ) )\n",
      "not found in result1: ( ( \"x0\"^^http://www.w3.org/2001/XMLSchema#string, http://example.org/gmark/35 ), ( \"x3\"^^http://www.w3.org/2001/XMLSchema#string, http://example.org/gmark/40 ) )\n",
      "not found in result1: ( ( \"x0\"^^http://www.w3.org/2001/XMLSchema#string, http://example.org/gmark/37 ), ( \"x3\"^^http://www.w3.org/2001/XMLSchema#string, http://example.org/gmark/45 ) )\n",
      "not found in result1: ( ( \"x0\"^^http://www.w3.org/2001/XMLSchema#string, http://example.org/gmark/23 ), ( \"x3\"^^http://www.w3.org/2001/XMLSchema#string, http://example.org/gmark/29 ) )\n",
      "not found in result1: ( ( \"x0\"^^http://www.w3.org/2001/XMLSchema#string, http://example.org/gmark/6 ), ( \"x3\"^^http://www.w3.org/2001/XMLSchema#string, http://example.org/gmark/37 ) )\n",
      "not found in result1: ( ( \"x0\"^^http://www.w3.org/2001/XMLSchema#string, http://example.org/gmark/22 ), ( \"x3\"^^http://www.w3.org/2001/XMLSchema#string, http://example.org/gmark/27 ) )\n",
      "not found in result1: ( ( \"x0\"^^http://www.w3.org/2001/XMLSchema#string, http://example.org/gmark/25 ), ( \"x3\"^^http://www.w3.org/2001/XMLSchema#string, http://example.org/gmark/45 ) )\n",
      "not found in result1: ( ( \"x0\"^^http://www.w3.org/2001/XMLSchema#string, http://example.org/gmark/27 ), ( \"x3\"^^http://www.w3.org/2001/XMLSchema#string, http://example.org/gmark/41 ) )\n",
      "not found in result1: ( ( \"x0\"^^http://www.w3.org/2001/XMLSchema#string, http://example.org/gmark/1 ), ( \"x3\"^^http://www.w3.org/2001/XMLSchema#string, http://example.org/gmark/38 ) )\n",
      "not found in result1: ( ( \"x0\"^^http://www.w3.org/2001/XMLSchema#string, http://example.org/gmark/35 ), ( \"x3\"^^http://www.w3.org/2001/XMLSchema#string, http://example.org/gmark/45 ) )\n",
      "not found in result1: ( ( \"x0\"^^http://www.w3.org/2001/XMLSchema#string, http://example.org/gmark/28 ), ( \"x3\"^^http://www.w3.org/2001/XMLSchema#string, http://example.org/gmark/47 ) )\n",
      "not found in result1: ( ( \"x0\"^^http://www.w3.org/2001/XMLSchema#string, http://example.org/gmark/29 ), ( \"x3\"^^http://www.w3.org/2001/XMLSchema#string, http://example.org/gmark/46 ) )\n",
      "not found in result1: ( ( \"x0\"^^http://www.w3.org/2001/XMLSchema#string, http://example.org/gmark/45 ), ( \"x3\"^^http://www.w3.org/2001/XMLSchema#string, http://example.org/gmark/55 ) )\n",
      "not found in result1: ( ( \"x0\"^^http://www.w3.org/2001/XMLSchema#string, http://example.org/gmark/14 ), ( \"x3\"^^http://www.w3.org/2001/XMLSchema#string, http://example.org/gmark/33 ) )\n",
      "not found in result1: ( ( \"x0\"^^http://www.w3.org/2001/XMLSchema#string, http://example.org/gmark/10 ), ( \"x3\"^^http://www.w3.org/2001/XMLSchema#string, http://example.org/gmark/37 ) )\n",
      "not found in result1: ( ( \"x0\"^^http://www.w3.org/2001/XMLSchema#string, http://example.org/gmark/26 ), ( \"x3\"^^http://www.w3.org/2001/XMLSchema#string, http://example.org/gmark/44 ) )\n",
      "not found in result1: ( ( \"x0\"^^http://www.w3.org/2001/XMLSchema#string, http://example.org/gmark/16 ), ( \"x3\"^^http://www.w3.org/2001/XMLSchema#string, http://example.org/gmark/25 ) )\n",
      "not found in result1: ( ( \"x0\"^^http://www.w3.org/2001/XMLSchema#string, http://example.org/gmark/13 ), ( \"x3\"^^http://www.w3.org/2001/XMLSchema#string, http://example.org/gmark/35 ) )\n",
      "not found in result1: ( ( \"x0\"^^http://www.w3.org/2001/XMLSchema#string, http://example.org/gmark/15 ), ( \"x3\"^^http://www.w3.org/2001/XMLSchema#string, http://example.org/gmark/33 ) )\n",
      "not found in result1: ( ( \"x0\"^^http://www.w3.org/2001/XMLSchema#string, http://example.org/gmark/5 ), ( \"x3\"^^http://www.w3.org/2001/XMLSchema#string, http://example.org/gmark/34 ) )\n",
      "not found in result1: ( ( \"x0\"^^http://www.w3.org/2001/XMLSchema#string, http://example.org/gmark/34 ), ( \"x3\"^^http://www.w3.org/2001/XMLSchema#string, http://example.org/gmark/48 ) )\n",
      "not found in result1: ( ( \"x0\"^^http://www.w3.org/2001/XMLSchema#string, http://example.org/gmark/32 ), ( \"x3\"^^http://www.w3.org/2001/XMLSchema#string, http://example.org/gmark/43 ) )\n",
      "not found in result1: ( ( \"x0\"^^http://www.w3.org/2001/XMLSchema#string, http://example.org/gmark/32 ), ( \"x3\"^^http://www.w3.org/2001/XMLSchema#string, http://example.org/gmark/45 ) )\n",
      "not found in result1: ( ( \"x0\"^^http://www.w3.org/2001/XMLSchema#string, http://example.org/gmark/31 ), ( \"x3\"^^http://www.w3.org/2001/XMLSchema#string, http://example.org/gmark/45 ) )\n",
      "not found in result1: ( ( \"x0\"^^http://www.w3.org/2001/XMLSchema#string, http://example.org/gmark/14 ), ( \"x3\"^^http://www.w3.org/2001/XMLSchema#string, http://example.org/gmark/35 ) )\n",
      "not found in result1: ( ( \"x0\"^^http://www.w3.org/2001/XMLSchema#string, http://example.org/gmark/7 ), ( \"x3\"^^http://www.w3.org/2001/XMLSchema#string, http://example.org/gmark/35 ) )\n",
      "not found in result1: ( ( \"x0\"^^http://www.w3.org/2001/XMLSchema#string, http://example.org/gmark/2 ), ( \"x3\"^^http://www.w3.org/2001/XMLSchema#string, http://example.org/gmark/30 ) )\n",
      "not found in result1: ( ( \"x0\"^^http://www.w3.org/2001/XMLSchema#string, http://example.org/gmark/36 ), ( \"x3\"^^http://www.w3.org/2001/XMLSchema#string, http://example.org/gmark/49 ) )\n",
      "not found in result1: ( ( \"x0\"^^http://www.w3.org/2001/XMLSchema#string, http://example.org/gmark/23 ), ( \"x3\"^^http://www.w3.org/2001/XMLSchema#string, http://example.org/gmark/34 ) )\n",
      "not found in result1: ( ( \"x0\"^^http://www.w3.org/2001/XMLSchema#string, http://example.org/gmark/19 ), ( \"x3\"^^http://www.w3.org/2001/XMLSchema#string, http://example.org/gmark/34 ) )\n",
      "not found in result1: ( ( \"x0\"^^http://www.w3.org/2001/XMLSchema#string, http://example.org/gmark/39 ), ( \"x3\"^^http://www.w3.org/2001/XMLSchema#string, http://example.org/gmark/46 ) )\n",
      "not found in result1: ( ( \"x0\"^^http://www.w3.org/2001/XMLSchema#string, http://example.org/gmark/24 ), ( \"x3\"^^http://www.w3.org/2001/XMLSchema#string, http://example.org/gmark/32 ) )\n",
      "not found in result1: ( ( \"x0\"^^http://www.w3.org/2001/XMLSchema#string, http://example.org/gmark/26 ), ( \"x3\"^^http://www.w3.org/2001/XMLSchema#string, http://example.org/gmark/48 ) )\n",
      "not found in result1: ( ( \"x0\"^^http://www.w3.org/2001/XMLSchema#string, http://example.org/gmark/16 ), ( \"x3\"^^http://www.w3.org/2001/XMLSchema#string, http://example.org/gmark/36 ) )\n",
      "not found in result1: ( ( \"x0\"^^http://www.w3.org/2001/XMLSchema#string, http://example.org/gmark/10 ), ( \"x3\"^^http://www.w3.org/2001/XMLSchema#string, http://example.org/gmark/26 ) )\n",
      "not found in result1: ( ( \"x0\"^^http://www.w3.org/2001/XMLSchema#string, http://example.org/gmark/12 ), ( \"x3\"^^http://www.w3.org/2001/XMLSchema#string, http://example.org/gmark/39 ) )\n",
      "not found in result1: ( ( \"x0\"^^http://www.w3.org/2001/XMLSchema#string, http://example.org/gmark/20 ), ( \"x3\"^^http://www.w3.org/2001/XMLSchema#string, http://example.org/gmark/28 ) )\n",
      "not found in result1: ( ( \"x0\"^^http://www.w3.org/2001/XMLSchema#string, http://example.org/gmark/14 ), ( \"x3\"^^http://www.w3.org/2001/XMLSchema#string, http://example.org/gmark/26 ) )\n",
      "not found in result1: ( ( \"x0\"^^http://www.w3.org/2001/XMLSchema#string, http://example.org/gmark/22 ), ( \"x3\"^^http://www.w3.org/2001/XMLSchema#string, http://example.org/gmark/39 ) )\n",
      "not found in result1: ( ( \"x0\"^^http://www.w3.org/2001/XMLSchema#string, http://example.org/gmark/30 ), ( \"x3\"^^http://www.w3.org/2001/XMLSchema#string, http://example.org/gmark/49 ) )\n",
      "not found in result1: ( ( \"x0\"^^http://www.w3.org/2001/XMLSchema#string, http://example.org/gmark/46 ), ( \"x3\"^^http://www.w3.org/2001/XMLSchema#string, http://example.org/gmark/139 ) )\n",
      "not found in result1: ( ( \"x0\"^^http://www.w3.org/2001/XMLSchema#string, http://example.org/gmark/16 ), ( \"x3\"^^http://www.w3.org/2001/XMLSchema#string, http://example.org/gmark/28 ) )\n",
      "not found in result1: ( ( \"x0\"^^http://www.w3.org/2001/XMLSchema#string, http://example.org/gmark/4 ), ( \"x3\"^^http://www.w3.org/2001/XMLSchema#string, http://example.org/gmark/25 ) )\n",
      "not found in result1: ( ( \"x0\"^^http://www.w3.org/2001/XMLSchema#string, http://example.org/gmark/11 ), ( \"x3\"^^http://www.w3.org/2001/XMLSchema#string, http://example.org/gmark/35 ) )\n",
      "not found in result1: ( ( \"x0\"^^http://www.w3.org/2001/XMLSchema#string, http://example.org/gmark/25 ), ( \"x3\"^^http://www.w3.org/2001/XMLSchema#string, http://example.org/gmark/42 ) )\n",
      "not found in result1: ( ( \"x0\"^^http://www.w3.org/2001/XMLSchema#string, http://example.org/gmark/38 ), ( \"x3\"^^http://www.w3.org/2001/XMLSchema#string, http://example.org/gmark/48 ) )\n",
      "not found in result1: ( ( \"x0\"^^http://www.w3.org/2001/XMLSchema#string, http://example.org/gmark/47 ), ( \"x3\"^^http://www.w3.org/2001/XMLSchema#string, http://example.org/gmark/147 ) )\n",
      "not found in result1: ( ( \"x0\"^^http://www.w3.org/2001/XMLSchema#string, http://example.org/gmark/49 ), ( \"x3\"^^http://www.w3.org/2001/XMLSchema#string, http://example.org/gmark/90 ) )\n",
      "not found in result1: ( ( \"x0\"^^http://www.w3.org/2001/XMLSchema#string, http://example.org/gmark/17 ), ( \"x3\"^^http://www.w3.org/2001/XMLSchema#string, http://example.org/gmark/38 ) )\n",
      "not found in result1: ( ( \"x0\"^^http://www.w3.org/2001/XMLSchema#string, http://example.org/gmark/48 ), ( \"x3\"^^http://www.w3.org/2001/XMLSchema#string, http://example.org/gmark/128 ) )\n",
      "not found in result1: ( ( \"x0\"^^http://www.w3.org/2001/XMLSchema#string, http://example.org/gmark/33 ), ( \"x3\"^^http://www.w3.org/2001/XMLSchema#string, http://example.org/gmark/48 ) )\n",
      "not found in result1: ( ( \"x0\"^^http://www.w3.org/2001/XMLSchema#string, http://example.org/gmark/0 ), ( \"x3\"^^http://www.w3.org/2001/XMLSchema#string, http://example.org/gmark/31 ) )\n",
      "results differ :-(\n",
      "\n",
      "\n"
     ]
    }
   ],
   "source": [
    "path1 = \"/Users/dorthearndt/sin3code/SPARQL-to-N3/gmark_50_new/mix/results\"\n",
    "path2 = \"/Users/dorthearndt/sin3code/SPARQL-to-N3/gmark_50_new/mix/n3/results/fwd\"\n",
    "files = list(os.listdir(path1))\n",
    "files.sort()\n",
    "for file in files:\n",
    "    if not file.endswith(\".n3\"):\n",
    "        continue\n",
    "    file1 = os.path.join(path1, file)\n",
    "    file2 = os.path.join(path2, file)\n",
    "    if not os.path.isfile(file2):\n",
    "        print(\"cannot find file2\")\n",
    "    else:\n",
    "        print(file)\n",
    "        compare_results(file1, file2)\n",
    "        print()\n",
    "    break"
   ]
  }
 ],
 "metadata": {
  "kernelspec": {
   "display_name": "Python 3",
   "language": "python",
   "name": "python3"
  },
  "language_info": {
   "codemirror_mode": {
    "name": "ipython",
    "version": 3
   },
   "file_extension": ".py",
   "mimetype": "text/x-python",
   "name": "python",
   "nbconvert_exporter": "python",
   "pygments_lexer": "ipython3",
   "version": "3.12.7"
  }
 },
 "nbformat": 4,
 "nbformat_minor": 2
}
