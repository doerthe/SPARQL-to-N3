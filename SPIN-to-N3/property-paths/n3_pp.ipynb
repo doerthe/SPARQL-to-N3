{
 "cells": [
  {
   "cell_type": "code",
   "execution_count": 1,
   "metadata": {},
   "outputs": [],
   "source": [
    "import os, subprocess"
   ]
  },
  {
   "cell_type": "code",
   "execution_count": 2,
   "metadata": {},
   "outputs": [],
   "source": [
    "def runNSave(cmd, path):\n",
    "    result = subprocess.run(cmd, stdout=subprocess.PIPE)\n",
    "    with open(path, 'w') as fh:\n",
    "        fh.write(result.stdout.decode(\"utf-8\"))"
   ]
  },
  {
   "cell_type": "code",
   "execution_count": 9,
   "metadata": {},
   "outputs": [
    {
     "name": "stdout",
     "output_type": "stream",
     "text": [
      "query-24.n3\n",
      "query-47.n3\n",
      "query-36.n3\n",
      "query-28.n3\n",
      "query-12.n3\n",
      "query-1.n3\n",
      "query-49.n3\n",
      "query-38.n3\n",
      "query-45.n3\n",
      "query-10.n3\n",
      "query-7.n3\n",
      "query-14.n3\n",
      "query-22.n3\n",
      "query-16.n3\n",
      "query-5.n3\n",
      "query-32.n3\n",
      "query-20.n3\n",
      "query-43.n3\n",
      "query-0.n3\n",
      "query-13.n3\n",
      "query-46.n3\n",
      "query-25.n3\n",
      "query-29.n3\n",
      "query-37.n3\n",
      "query-11.n3\n",
      "query-2.n3\n",
      "query-48.n3\n",
      "query-35.n3\n",
      "query-27.n3\n",
      "query-44.n3\n",
      "query-39.n3\n",
      "query-23.n3\n",
      "query-40.n3\n",
      "query-19.n3\n",
      "query-6.n3\n",
      "query-21.n3\n",
      "query-4.n3\n",
      "query-17.n3\n",
      "query-8.n3\n"
     ]
    }
   ],
   "source": [
    "path = \"/Users/wvw/git/n3/sparql2n3/SPARQL-to-N3/other_systems/gmark-dominik/50/\"\n",
    "for file in os.listdir(path):    \n",
    "    if not file.endswith(\".sparql\"):\n",
    "        continue\n",
    "    \n",
    "    file = file[:file.index(\".\")] + \".n3\"\n",
    "    or_file = os.path.join(path, \"n3\", file)\n",
    "    norm_file = os.path.join(path, \"n3\", \"normalized\", file)\n",
    "    \n",
    "    print(file)\n",
    "    \n",
    "    # ground\n",
    "    runNSave([\"eye\", \"--quiet\", or_file, \"--no-qvars\", \"--nope\", \"--pass-all\"], norm_file)\n",
    "    \n",
    "    # normalize\n",
    "    runNSave([\"eye\", \"--quiet\", norm_file, \"aux_list.n3\", \"--query\", \"list-predicate.n3\", \"--quantify\", \"http://www.w3.org/2000/10/swap/var#\", \"--nope\"], norm_file)"
   ]
  },
  {
   "cell_type": "code",
   "execution_count": 13,
   "metadata": {},
   "outputs": [
    {
     "name": "stdout",
     "output_type": "stream",
     "text": [
      "query-0.n3 /Users/wvw/git/n3/sparql2n3/SPARQL-to-N3/other_systems/gmark-dominik/50/n3/results/direct/query-0.n3\n"
     ]
    },
    {
     "name": "stderr",
     "output_type": "stream",
     "text": [
      "eye --quiet /Users/wvw/git/n3/sparql2n3/SPARQL-to-N3/other_systems/gmark-dominik/50/data.n3 property-paths-direct.n3 --query /Users/wvw/git/n3/sparql2n3/SPARQL-to-N3/other_systems/gmark-dominik/50/n3/normalized/query-0.n3 --nope\n",
      "EYE v10.24.10 (2024-10-02)\n",
      "SWI-Prolog version 9.2.7\n",
      "starting 26 [msec cputime] 31 [msec walltime]\n",
      "GET file:///Users/wvw/git/n3/sparql2n3/SPARQL-to-N3/other_systems/gmark-dominik/50/data.n3 SC=55\n",
      "GET file:///Users/wvw/git/n3/sparql2n3/SPARQL-to-N3/SPIN-to-N3/property-paths/property-paths-direct.n3 SC=14\n",
      "GET file:///Users/wvw/git/n3/sparql2n3/SPARQL-to-N3/other_systems/gmark-dominik/50/n3/normalized/query-0.n3 SC=1\n",
      "networking 8 [msec cputime] 9 [msec walltime]\n",
      "reasoning 202 [msec cputime] 205 [msec walltime]\n",
      "2025-05-20T13:31:33.573Z in=70 out=5 ent=5 step=82528 brake=1 inf=3223800 sec=0.236 inf/sec=13660169\n",
      "\n",
      "eye --quiet /Users/wvw/git/n3/sparql2n3/SPARQL-to-N3/other_systems/gmark-dominik/50/n3/normalized/query-0.n3 rule-creation.n3 --query rule-creation-backwards.n3 --nope\n",
      "EYE v10.24.10 (2024-10-02)\n",
      "SWI-Prolog version 9.2.7\n",
      "starting 26 [msec cputime] 28 [msec walltime]\n",
      "GET file:///Users/wvw/git/n3/sparql2n3/SPARQL-to-N3/other_systems/gmark-dominik/50/n3/normalized/query-0.n3 SC=1\n",
      "GET file:///Users/wvw/git/n3/sparql2n3/SPARQL-to-N3/SPIN-to-N3/property-paths/rule-creation.n3 SC=11\n",
      "GET file:///Users/wvw/git/n3/sparql2n3/SPARQL-to-N3/SPIN-to-N3/property-paths/rule-creation-backwards.n3 SC=1\n",
      "networking 6 [msec cputime] 8 [msec walltime]\n",
      "reasoning 13 [msec cputime] 13 [msec walltime]\n",
      "2025-05-20T13:31:33.636Z in=13 out=8 ent=16 step=57 brake=4 inf=284618 sec=0.045 inf/sec=6324844\n",
      "\n",
      "eye --quiet /Users/wvw/git/n3/sparql2n3/SPARQL-to-N3/other_systems/gmark-dominik/50/data.n3 tmp.n3 --query /Users/wvw/git/n3/sparql2n3/SPARQL-to-N3/other_systems/gmark-dominik/50/n3/normalized/query-0.n3 --nope\n",
      "EYE v10.24.10 (2024-10-02)\n",
      "SWI-Prolog version 9.2.7\n",
      "starting 24 [msec cputime] 26 [msec walltime]\n",
      "GET file:///Users/wvw/git/n3/sparql2n3/SPARQL-to-N3/other_systems/gmark-dominik/50/data.n3 SC=55\n",
      "GET file:///Users/wvw/git/n3/sparql2n3/SPARQL-to-N3/SPIN-to-N3/property-paths/tmp.n3 SC=8\n",
      "GET file:///Users/wvw/git/n3/sparql2n3/SPARQL-to-N3/other_systems/gmark-dominik/50/n3/normalized/query-0.n3 SC=1\n",
      "networking 7 [msec cputime] 8 [msec walltime]\n",
      "reasoning 114 [msec cputime] 114 [msec walltime]\n",
      "2025-05-20T13:31:33.796Z in=64 out=5 ent=5 step=82528 brake=1 inf=2323149 sec=0.145 inf/sec=16021717\n",
      "\n",
      "eye --quiet /Users/wvw/git/n3/sparql2n3/SPARQL-to-N3/other_systems/gmark-dominik/50/n3/normalized/query-0.n3 rule-creation.n3 --query rule-creation.n3 --nope\n",
      "EYE v10.24.10 (2024-10-02)\n",
      "SWI-Prolog version 9.2.7\n",
      "starting 23 [msec cputime] 26 [msec walltime]\n",
      "GET file:///Users/wvw/git/n3/sparql2n3/SPARQL-to-N3/other_systems/gmark-dominik/50/n3/normalized/query-0.n3 SC=1\n",
      "GET file:///Users/wvw/git/n3/sparql2n3/SPARQL-to-N3/SPIN-to-N3/property-paths/rule-creation.n3 SC=11\n",
      "GET file:///Users/wvw/git/n3/sparql2n3/SPARQL-to-N3/SPIN-to-N3/property-paths/rule-creation.n3 SC=11\n",
      "networking 12 [msec cputime] 13 [msec walltime]\n",
      "reasoning 32 [msec cputime] 34 [msec walltime]\n",
      "2025-05-20T13:31:33.881Z in=23 out=8 ent=16 step=70 brake=4 inf=611751 sec=0.067 inf/sec=9130612\n",
      "\n",
      "eye --quiet /Users/wvw/git/n3/sparql2n3/SPARQL-to-N3/other_systems/gmark-dominik/50/data.n3 tmp.n3 --query /Users/wvw/git/n3/sparql2n3/SPARQL-to-N3/other_systems/gmark-dominik/50/n3/normalized/query-0.n3 --nope\n",
      "EYE v10.24.10 (2024-10-02)\n",
      "SWI-Prolog version 9.2.7\n",
      "starting 23 [msec cputime] 25 [msec walltime]\n",
      "GET file:///Users/wvw/git/n3/sparql2n3/SPARQL-to-N3/other_systems/gmark-dominik/50/data.n3 SC=55\n",
      "GET file:///Users/wvw/git/n3/sparql2n3/SPARQL-to-N3/SPIN-to-N3/property-paths/tmp.n3 SC=8\n",
      "GET file:///Users/wvw/git/n3/sparql2n3/SPARQL-to-N3/other_systems/gmark-dominik/50/n3/normalized/query-0.n3 SC=1\n",
      "networking 7 [msec cputime] 8 [msec walltime]\n",
      "reasoning 2 [msec cputime] 1 [msec walltime]\n",
      "2025-05-20T13:31:33.928Z in=64 out=5 ent=55 step=245 brake=4 inf=166110 sec=0.032 inf/sec=5190938\n",
      "\n"
     ]
    }
   ],
   "source": [
    "path = \"/Users/wvw/git/n3/sparql2n3/SPARQL-to-N3/other_systems/gmark-dominik/50/\"\n",
    "files = list(os.listdir(os.path.join(path, \"n3\", \"normalized\")))\n",
    "files.sort()\n",
    "for file in files:\n",
    "    if not file.startswith(\"query\"):\n",
    "        continue\n",
    "    \n",
    "    norm_file = os.path.join(path, \"n3\", \"normalized\", file)\n",
    "    data_path = os.path.join(path, \"data.n3\")\n",
    "    dir_res_file = os.path.join(path, \"n3\", \"results\", \"direct\", file)\n",
    "    bwd_res_file = os.path.join(path, \"n3\", \"results\", \"bwd\", file)\n",
    "    fwd_res_file = os.path.join(path, \"n3\", \"results\", \"fwd\", file)\n",
    "    tmp_file = \"tmp.n3\"\n",
    "    \n",
    "    print(file, dir_res_file)\n",
    "    \n",
    "    # - direct \n",
    "    runNSave([\"eye\", data_path, \"property-paths-direct.n3\", \"--query\", norm_file, \"--nope\"], dir_res_file)\n",
    "    \n",
    "    # - backward\n",
    "    runNSave([\"eye\", norm_file, \"rule-creation.n3\", \"--query\", \"rule-creation-backwards.n3\", \"--nope\"], tmp_file)\n",
    "    runNSave([\"eye\", data_path, tmp_file, \"--query\", norm_file, \"--nope\"], bwd_res_file)\n",
    "        \n",
    "    # - forward\n",
    "    runNSave([\"eye\", norm_file, \"rule-creation.n3\", \"--query\", \"rule-creation.n3\", \"--nope\"], tmp_file)\n",
    "    runNSave([\"eye\", data_path, tmp_file, \"--query\", norm_file, \"--nope\"], fwd_res_file)\n",
    "    \n",
    "    break"
   ]
  }
 ],
 "metadata": {
  "kernelspec": {
   "display_name": "base",
   "language": "python",
   "name": "python3"
  },
  "language_info": {
   "codemirror_mode": {
    "name": "ipython",
    "version": 3
   },
   "file_extension": ".py",
   "mimetype": "text/x-python",
   "name": "python",
   "nbconvert_exporter": "python",
   "pygments_lexer": "ipython3",
   "version": "3.11.5"
  }
 },
 "nbformat": 4,
 "nbformat_minor": 2
}
