{
 "cells": [
  {
   "cell_type": "code",
   "execution_count": 3,
   "id": "2ab54aba",
   "metadata": {},
   "outputs": [
    {
     "ename": "Exception",
     "evalue": "Invalid path in NegatedPath: InversePath_InversePath_{}",
     "output_type": "error",
     "traceback": [
      "\u001b[0;31m---------------------------------------------------------------------------\u001b[0m",
      "\u001b[0;31mException\u001b[0m                                 Traceback (most recent call last)",
      "Cell \u001b[0;32mIn[3], line 17\u001b[0m\n\u001b[1;32m      9\u001b[0m query \u001b[38;5;241m=\u001b[39m \u001b[38;5;124m\"\"\"\u001b[39m\n\u001b[1;32m     10\u001b[0m \u001b[38;5;124mPREFIX : <http://example.org/gmark/> \u001b[39m\n\u001b[1;32m     11\u001b[0m \u001b[38;5;124mSELECT *\u001b[39m\n\u001b[1;32m     12\u001b[0m \u001b[38;5;124mWHERE \u001b[39m\u001b[38;5;124m{\u001b[39m\n\u001b[1;32m     13\u001b[0m \u001b[38;5;124m    ?x1 !(:p1|^:p2) ?x2\u001b[39m\n\u001b[1;32m     14\u001b[0m \u001b[38;5;124m}\u001b[39m\u001b[38;5;124m\"\"\"\u001b[39m\n\u001b[1;32m     16\u001b[0m qres \u001b[38;5;241m=\u001b[39m g\u001b[38;5;241m.\u001b[39mquery(query)\n\u001b[0;32m---> 17\u001b[0m \u001b[38;5;28;01mfor\u001b[39;00m row \u001b[38;5;129;01min\u001b[39;00m qres:\n\u001b[1;32m     18\u001b[0m     \u001b[38;5;28mprint\u001b[39m(row)\n",
      "File \u001b[0;32m/opt/anaconda3/lib/python3.12/site-packages/rdflib/query.py:372\u001b[0m, in \u001b[0;36mResult.__iter__\u001b[0;34m(self)\u001b[0m\n\u001b[1;32m    368\u001b[0m \u001b[38;5;28;01melif\u001b[39;00m \u001b[38;5;28mself\u001b[39m\u001b[38;5;241m.\u001b[39mtype \u001b[38;5;241m==\u001b[39m \u001b[38;5;124m\"\u001b[39m\u001b[38;5;124mSELECT\u001b[39m\u001b[38;5;124m\"\u001b[39m:\n\u001b[1;32m    369\u001b[0m     \u001b[38;5;66;03m# this iterates over ResultRows of variable bindings\u001b[39;00m\n\u001b[1;32m    371\u001b[0m     \u001b[38;5;28;01mif\u001b[39;00m \u001b[38;5;28mself\u001b[39m\u001b[38;5;241m.\u001b[39m_genbindings:\n\u001b[0;32m--> 372\u001b[0m         \u001b[38;5;28;01mfor\u001b[39;00m b \u001b[38;5;129;01min\u001b[39;00m \u001b[38;5;28mself\u001b[39m\u001b[38;5;241m.\u001b[39m_genbindings:\n\u001b[1;32m    373\u001b[0m             \u001b[38;5;28;01mif\u001b[39;00m b:  \u001b[38;5;66;03m# don't add a result row in case of empty binding {}\u001b[39;00m\n\u001b[1;32m    374\u001b[0m                 \u001b[38;5;28mself\u001b[39m\u001b[38;5;241m.\u001b[39m_bindings\u001b[38;5;241m.\u001b[39mappend(b)\n",
      "File \u001b[0;32m/opt/anaconda3/lib/python3.12/site-packages/rdflib/plugins/sparql/evaluate.py:574\u001b[0m, in \u001b[0;36m<genexpr>\u001b[0;34m(.0)\u001b[0m\n\u001b[1;32m    572\u001b[0m \u001b[38;5;28;01mdef\u001b[39;00m \u001b[38;5;21mevalProject\u001b[39m(ctx: QueryContext, project: CompValue):\n\u001b[1;32m    573\u001b[0m     res \u001b[38;5;241m=\u001b[39m evalPart(ctx, project\u001b[38;5;241m.\u001b[39mp)\n\u001b[0;32m--> 574\u001b[0m     \u001b[38;5;28;01mreturn\u001b[39;00m (row\u001b[38;5;241m.\u001b[39mproject(project\u001b[38;5;241m.\u001b[39mPV) \u001b[38;5;28;01mfor\u001b[39;00m row \u001b[38;5;129;01min\u001b[39;00m res)\n",
      "File \u001b[0;32m/opt/anaconda3/lib/python3.12/site-packages/rdflib/plugins/sparql/evaluate.py:97\u001b[0m, in \u001b[0;36mevalBGP\u001b[0;34m(ctx, bgp)\u001b[0m\n\u001b[1;32m     93\u001b[0m _o \u001b[38;5;241m=\u001b[39m ctx[o]\n\u001b[1;32m     95\u001b[0m \u001b[38;5;66;03m# type error: Item \"None\" of \"Optional[Graph]\" has no attribute \"triples\"\u001b[39;00m\n\u001b[1;32m     96\u001b[0m \u001b[38;5;66;03m# type Argument 1 to \"triples\" of \"Graph\" has incompatible type \"Tuple[Union[str, Path, None], Union[str, Path, None], Union[str, Path, None]]\"; expected \"Tuple[Optional[Node], Optional[Node], Optional[Node]]\"\u001b[39;00m\n\u001b[0;32m---> 97\u001b[0m \u001b[38;5;28;01mfor\u001b[39;00m ss, sp, so \u001b[38;5;129;01min\u001b[39;00m ctx\u001b[38;5;241m.\u001b[39mgraph\u001b[38;5;241m.\u001b[39mtriples((_s, _p, _o)):  \u001b[38;5;66;03m# type: ignore[union-attr, arg-type]\u001b[39;00m\n\u001b[1;32m     98\u001b[0m     \u001b[38;5;28;01mif\u001b[39;00m \u001b[38;5;28;01mNone\u001b[39;00m \u001b[38;5;129;01min\u001b[39;00m (_s, _p, _o):\n\u001b[1;32m     99\u001b[0m         c \u001b[38;5;241m=\u001b[39m ctx\u001b[38;5;241m.\u001b[39mpush()\n",
      "File \u001b[0;32m/opt/anaconda3/lib/python3.12/site-packages/rdflib/graph.py:635\u001b[0m, in \u001b[0;36mGraph.triples\u001b[0;34m(self, triple)\u001b[0m\n\u001b[1;32m    633\u001b[0m s, p, o \u001b[38;5;241m=\u001b[39m triple\n\u001b[1;32m    634\u001b[0m \u001b[38;5;28;01mif\u001b[39;00m \u001b[38;5;28misinstance\u001b[39m(p, Path):\n\u001b[0;32m--> 635\u001b[0m     \u001b[38;5;28;01mfor\u001b[39;00m _s, _o \u001b[38;5;129;01min\u001b[39;00m p\u001b[38;5;241m.\u001b[39meval(\u001b[38;5;28mself\u001b[39m, s, o):\n\u001b[1;32m    636\u001b[0m         \u001b[38;5;28;01myield\u001b[39;00m _s, p, _o\n\u001b[1;32m    637\u001b[0m \u001b[38;5;28;01melse\u001b[39;00m:\n",
      "File \u001b[0;32m/opt/anaconda3/lib/python3.12/site-packages/rdflib/paths.py:507\u001b[0m, in \u001b[0;36mNegatedPath.eval\u001b[0;34m(self, graph, subj, obj)\u001b[0m\n\u001b[1;32m    505\u001b[0m             \u001b[38;5;28;01mbreak\u001b[39;00m\n\u001b[1;32m    506\u001b[0m     \u001b[38;5;28;01melse\u001b[39;00m:\n\u001b[0;32m--> 507\u001b[0m         \u001b[38;5;28;01mraise\u001b[39;00m \u001b[38;5;167;01mException\u001b[39;00m(\u001b[38;5;124m\"\u001b[39m\u001b[38;5;124mInvalid path in NegatedPath: \u001b[39m\u001b[38;5;132;01m%s\u001b[39;00m\u001b[38;5;124m\"\u001b[39m \u001b[38;5;241m%\u001b[39m a)\n\u001b[1;32m    508\u001b[0m \u001b[38;5;28;01melse\u001b[39;00m:\n\u001b[1;32m    509\u001b[0m     \u001b[38;5;28;01myield\u001b[39;00m s, o\n",
      "\u001b[0;31mException\u001b[0m: Invalid path in NegatedPath: InversePath_InversePath_{}"
     ]
    }
   ],
   "source": [
    "import rdflib\n",
    "g = rdflib.Graph()\n",
    "g.parse(data=\"\"\"\n",
    "<http://example.org/gmark/C> <http://example.org/gmark/p2> <http://example.org/gmark/D> .\n",
    "<http://example.org/gmark/B> <http://example.org/gmark/p1> <http://example.org/gmark/C> .\n",
    "<http://example.org/gmark/A> <http://example.org/gmark/p0> <http://example.org/gmark/B> .        \n",
    "\"\"\")\n",
    "\n",
    "query = \"\"\"\n",
    "PREFIX : <http://example.org/gmark/> \n",
    "SELECT *\n",
    "WHERE {\n",
    "    ?x1 !(:p1|^:p2) ?x2\n",
    "}\"\"\"\n",
    "\n",
    "qres = g.query(query)\n",
    "for row in qres:\n",
    "    print(row)"
   ]
  }
 ],
 "metadata": {
  "kernelspec": {
   "display_name": "base",
   "language": "python",
   "name": "python3"
  },
  "language_info": {
   "codemirror_mode": {
    "name": "ipython",
    "version": 3
   },
   "file_extension": ".py",
   "mimetype": "text/x-python",
   "name": "python",
   "nbconvert_exporter": "python",
   "pygments_lexer": "ipython3",
   "version": "3.12.7"
  }
 },
 "nbformat": 4,
 "nbformat_minor": 5
}
