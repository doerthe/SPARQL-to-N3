{
 "cells": [
  {
   "cell_type": "code",
   "execution_count": null,
   "metadata": {},
   "outputs": [],
   "source": [
    "# (auto-reload changes from imported libraries)\n",
    "# %load_ext autoreload\n",
    "# %autovaload 2"
   ]
  },
  {
   "cell_type": "code",
   "execution_count": null,
   "metadata": {},
   "outputs": [],
   "source": [
    "# conditions:\n",
    "#     ?p zk:isPregnant true .\n",
    "#     ?p zk:hasZikaSymptom ?symptom .\n",
    "\n",
    "#     ?p zk:possibleZikaExposure true .\n",
    "#           ?p zk:recentTravelToZikaArea true . OR\n",
    "#           ?p zk:recentSexualEncounterWithZikaResidentOrTraveler true\n",
    "#                   ?p2 zk:recentTravelToZikaArea true . OR\n",
    "#                   ?p2 zk:residentOfZikaArea true \n",
    "\n",
    "#     ?p zk:avgTimeSinceZikaSymptomsOnset ?timeSince .\n",
    "#     FILTER (?timeSince < 7257600000) # 12 weeks"
   ]
  },
  {
   "cell_type": "code",
   "execution_count": 1,
   "metadata": {},
   "outputs": [],
   "source": [
    "chances = {\n",
    "    \"isPregnant\": 0.2,\n",
    "    \"hasZikaSymptom\": 0.2,\n",
    "    \"recentTravelToZikaArea\": 0.2,\n",
    "    \"recentSexualEncounter\": 0.2,\n",
    "    \"recentSexualEncounter_recentTravelToZikaArea\": 0.2,\n",
    "    \"recentSexualEncounter_residentOfZikaArea\": 0.2\n",
    "}"
   ]
  },
  {
   "cell_type": "code",
   "execution_count": 8,
   "metadata": {},
   "outputs": [
    {
     "name": "stdout",
     "output_type": "stream",
     "text": [
      "[a rdfg:Graph;rdflib:storage [a rdflib:Store;rdfs:label 'Memory']].\n"
     ]
    }
   ],
   "source": [
    "from gen_zika import gen_cases\n",
    "\n",
    "# g = gen_cases(1000, chances, \"red\")\n",
    "# print(g.serialize(\"red/gen1000_pt2_sympt_conds4.n3\", format=\"n3\"))\n",
    "\n",
    "amount = \"70_000\"\n",
    "g = gen_cases(int(amount), chances, \"full\")\n",
    "print(g.serialize(f\"full/gen{amount}_pt2.n3\", format=\"n3\"))"
   ]
  }
 ],
 "metadata": {
  "kernelspec": {
   "display_name": "base",
   "language": "python",
   "name": "python3"
  },
  "language_info": {
   "codemirror_mode": {
    "name": "ipython",
    "version": 3
   },
   "file_extension": ".py",
   "mimetype": "text/x-python",
   "name": "python",
   "nbconvert_exporter": "python",
   "pygments_lexer": "ipython3",
   "version": "3.11.5"
  }
 },
 "nbformat": 4,
 "nbformat_minor": 2
}
