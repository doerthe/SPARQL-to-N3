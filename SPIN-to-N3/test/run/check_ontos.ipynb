{
 "cells": [
  {
   "cell_type": "code",
   "execution_count": 33,
   "metadata": {},
   "outputs": [],
   "source": [
    "import os, subprocess"
   ]
  },
  {
   "cell_type": "code",
   "execution_count": 34,
   "metadata": {},
   "outputs": [],
   "source": [
    "def get_onto(dir):\n",
    "    for file in os.listdir(dir):\n",
    "        if file.startswith(\".\"):\n",
    "            continue\n",
    "        path = os.path.join(dir, file)\n",
    "        if os.path.isdir(path):\n",
    "            return get_onto(path)\n",
    "        else:\n",
    "            return path"
   ]
  },
  {
   "cell_type": "code",
   "execution_count": 35,
   "metadata": {},
   "outputs": [],
   "source": [
    "root = \"/Users/wvw/git/ontotools/kg-bioportal/data/raw\""
   ]
  },
  {
   "cell_type": "code",
   "execution_count": 36,
   "metadata": {},
   "outputs": [],
   "source": [
    "onto_names = [ line.split(':')[0] for line in open(os.path.join(root, \"in_rl.txt\")).readlines() ]\n",
    "onto_names_dirs = [ [ name, os.path.join(root, f\"ontologies/{name}\") ] for name in onto_names ]"
   ]
  },
  {
   "cell_type": "code",
   "execution_count": 37,
   "metadata": {},
   "outputs": [],
   "source": [
    "ontos = [ [ name, get_onto(dir) ] for name, dir in onto_names_dirs ]"
   ]
  },
  {
   "cell_type": "code",
   "execution_count": 45,
   "metadata": {},
   "outputs": [],
   "source": [
    "paths = \"\\n\".join([ f\"{onto[0]},{onto[1]}\" for onto in ontos])\n",
    "fd = open(os.path.join(root, \"in_rl-paths.txt\"), 'w')\n",
    "fd.write(paths)\n",
    "fd.close()"
   ]
  },
  {
   "cell_type": "code",
   "execution_count": 44,
   "metadata": {},
   "outputs": [
    {
     "name": "stdout",
     "output_type": "stream",
     "text": [
      "> ABA-AMB\n",
      "> ACVD_ONTOLOGY\n",
      "> AGROCYMAC\n",
      "> AGROMOP\n",
      "> AO\n",
      "> ASSAYNODE\n",
      "> BCLION\n",
      "> BCON\n",
      "> BIFO\n",
      "> BKO\n",
      "> BNO\n",
      "> CARELEX\n",
      "> CBO\n",
      "> CEDARVS\n",
      "> CHD\n",
      "> CMECS\n",
      "> COMODI\n",
      "> COVID19\n",
      "> COVID19-IBO\n",
      "> CPTAC\n",
      "> CRYOEM\n",
      "> CSO\n",
      "> CSSO\n",
      "> CTCAE\n",
      "> CWD\n",
      "> DDIEM\n",
      "> DEB\n",
      "> DECIDE\n",
      "> DISDRIV\n",
      "> E-PPO\n",
      "> ELIG\n",
      "> EPISEM\n",
      "> ESO_C\n",
      "> EXON\n",
      "> FCC1\n",
      "> FDSAJFAHSJK\n",
      "> FGNHNS\n",
      "> FNS-H\n",
      "> FOUR-M_VOCABS\n",
      "> HAMIDEHSGH\n",
      "> HCDR\n",
      "> HENEGEO\n",
      "> HFO\n",
      "> HOM\n",
      "> HOME\n",
      "> HTO\n",
      "> ICD11-BODYSYSTEM\n",
      "> IFAR\n",
      "> ILLNESSINJURY\n",
      "> INSECTH\n",
      "> IPD\n",
      "> IRD\n",
      "> ISPO\n",
      "> LONGCOVID\n",
      "> MEDO\n",
      "> MGBD\n",
      "> NCCNEHR\n",
      "> NEUMORE\n",
      "> NMOSP\n",
      "> NRO\n",
      "> OBOE\n",
      "> OCDM\n",
      "> ODHT\n",
      "> OGR\n",
      "> OMDO\n",
      "> ONL-TASKS\n",
      "> ONTOPNEUMO\n",
      "> PATEL\n",
      "> PE\n",
      "> PHENX\n",
      "> PINO\n",
      "> PREGONTO\n",
      "> PTRANS\n",
      "> RAO\n",
      "> REPO\n",
      "> RNPRIO\n",
      "> RO\n",
      "> ROLEO\n",
      "> SBO\n",
      "> SOCPRES\n",
      "> SOS\n",
      "> SYMP\n",
      "> THREE-ST\n",
      "> TM-CONST\n",
      "> TM-MER\n",
      "> TM-OTHER-FACTORS\n",
      "> TM-SIGNS-AND-SYMPTS\n",
      "> TMA\n",
      "> TML\n",
      "> TOP-MENELAS\n",
      "> TRIAGE\n",
      "> TTO\n",
      "> VRD\n",
      "> WWECA\n",
      "> ZECO\n",
      "> LUNGMAP_H_CELL\n",
      "> PVONTO\n"
     ]
    }
   ],
   "source": [
    "fd = open(\"times/owl2rl-eye.csv\", 'w')\n",
    "\n",
    "fd.write(\"query,ontology,time_gen_spin,time_gen_n3,run_strt_time,run_netw_time,run_reas_time,time_exec_total\\n\")\n",
    "for onto in ontos:\n",
    "    name, path = onto\n",
    "    print(f\"> {name}\")\n",
    "    \n",
    "    cmd = [\"./run_spin3_loops.sh\", \"../cases/owl2rl/owl2rl-reduced.sparql\", path, \"false\", \"true\", \"true\", f\"results/owl2rl/{name}-eye.nt\"]\n",
    "    # print(cmd)\n",
    "    process = subprocess.Popen(cmd, stdout=subprocess.PIPE, stderr=subprocess.PIPE)\n",
    "    out, error = [ b.decode('UTF-8') for b in process.communicate() ]\n",
    "    fd.write(f\"owl2rl-red,{name},{out}\")\n",
    "    if error.strip() != \"\": \n",
    "        print(\"error:\", error)\n",
    "        break\n",
    "    fd.flush()\n",
    "\n",
    "fd.close()"
   ]
  }
 ],
 "metadata": {
  "kernelspec": {
   "display_name": "base",
   "language": "python",
   "name": "python3"
  },
  "language_info": {
   "codemirror_mode": {
    "name": "ipython",
    "version": 3
   },
   "file_extension": ".py",
   "mimetype": "text/x-python",
   "name": "python",
   "nbconvert_exporter": "python",
   "pygments_lexer": "ipython3",
   "version": "3.11.5"
  }
 },
 "nbformat": 4,
 "nbformat_minor": 2
}
