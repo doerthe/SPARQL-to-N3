{
 "cells": [
  {
   "cell_type": "code",
   "execution_count": 1,
   "metadata": {},
   "outputs": [],
   "source": [
    "from rdflib.plugins.sparql import parser"
   ]
  },
  {
   "cell_type": "code",
   "execution_count": 431,
   "metadata": {},
   "outputs": [],
   "source": [
    "query = \"SELECT ?x WHERE { ?x (:p1/:p2)* ?z ; !(:p3|:p4|:p5) ?a }\"\n",
    "# query = \\\n",
    "# \"PREFIX : <http://example.org/gmark/> \" + \\\n",
    "# \"SELECT DISTINCT ?x0 ?x3 WHERE {  { \" + \\\n",
    "# \"?x0 (((^:p1/:p1)|(^:p1/:p1/^:p1/:p1))) ?x1 . ?x1 (((^:p1/:p1/^:p1/:p1)|(^:p1/:p1))) ?x2 . ?x2 ((^:p1/:p1)|(^:p1/:p1/^:p1/:p1)) ?x3 . \" + \\\n",
    "# \"} }\"\n"
   ]
  },
  {
   "cell_type": "code",
   "execution_count": 432,
   "metadata": {},
   "outputs": [],
   "source": [
    "query = parser.parseQuery(query)\n",
    "if len(query) > 1:\n",
    "    query = query[1]"
   ]
  },
  {
   "cell_type": "code",
   "execution_count": 433,
   "metadata": {},
   "outputs": [
    {
     "data": {
      "text/plain": [
       "SelectQuery_{'projection': [vars_{'var': rdflib.term.Variable('x')}], 'where': GroupGraphPatternSub_{'part': [TriplesBlock_{'triples': [ParseResults([rdflib.term.Variable('x'), PathAlternative_{'part': [PathSequence_{'part': [PathElt_{'part': PathAlternative_{'part': [PathSequence_{'part': [PathElt_{'part': pname_{'localname': 'p1'}}, PathElt_{'part': pname_{'localname': 'p2'}}]}]}, 'mod': '*'}]}]}, rdflib.term.Variable('z'), rdflib.term.Variable('x'), PathAlternative_{'part': [PathSequence_{'part': [PathElt_{'part': PathNegatedPropertySet_{'part': [pname_{'localname': 'p3'}, pname_{'localname': 'p4'}, pname_{'localname': 'p5'}]}}]}]}, rdflib.term.Variable('a')], {})]}]}}"
      ]
     },
     "execution_count": 433,
     "metadata": {},
     "output_type": "execute_result"
    }
   ],
   "source": [
    "query"
   ]
  },
  {
   "cell_type": "code",
   "execution_count": 434,
   "metadata": {},
   "outputs": [],
   "source": [
    "class Print_Visitor:\n",
    "    \n",
    "    def visit(self, ast, lvl=0):\n",
    "        if type(ast) == parser.ParseResults:\n",
    "            self.results(ast, lvl)\n",
    "            for j in ast.as_list(): self.visit(j, lvl+1)\n",
    "        \n",
    "        elif type(ast) == list:\n",
    "            for j in ast: self.visit(j, lvl+1)\n",
    "       \n",
    "        elif hasattr(ast, 'items') and len(ast) > 0:\n",
    "            self.node(ast, lvl)\n",
    "            for j in ast.values(): self.visit(j, lvl+1)\n",
    "        \n",
    "        else:\n",
    "            return self.leaf(ast, lvl)\n",
    "    \n",
    "    def __indent(self, lvl):\n",
    "        return \" \".join([ \"\" for _ in range(lvl) ])\n",
    "    \n",
    "    def results(self, ast, lvl):\n",
    "        print(self.__indent(lvl), \"results:\", ast)\n",
    "        \n",
    "    def node(self, ast, lvl):\n",
    "        print(self.__indent(lvl), \"node:\", ast.name)\n",
    "    \n",
    "    def leaf(self, ast, lvl):\n",
    "        print(self.__indent(lvl), \"leaf:\", ast)"
   ]
  },
  {
   "cell_type": "code",
   "execution_count": 435,
   "metadata": {},
   "outputs": [
    {
     "name": "stdout",
     "output_type": "stream",
     "text": [
      " node: SelectQuery\n",
      "  node: vars\n",
      "   leaf: x\n",
      " node: GroupGraphPatternSub\n",
      "   node: TriplesBlock\n",
      "     results: [rdflib.term.Variable('x'), PathAlternative_{'part': [PathSequence_{'part': [PathElt_{'part': PathAlternative_{'part': [PathSequence_{'part': [PathElt_{'part': pname_{'localname': 'p1'}}, PathElt_{'part': pname_{'localname': 'p2'}}]}]}, 'mod': '*'}]}]}, rdflib.term.Variable('z'), rdflib.term.Variable('x'), PathAlternative_{'part': [PathSequence_{'part': [PathElt_{'part': PathNegatedPropertySet_{'part': [pname_{'localname': 'p3'}, pname_{'localname': 'p4'}, pname_{'localname': 'p5'}]}}]}]}, rdflib.term.Variable('a')]\n",
      "      leaf: x\n",
      "      node: PathAlternative\n",
      "        node: PathSequence\n",
      "          node: PathElt\n",
      "           node: PathAlternative\n",
      "             node: PathSequence\n",
      "               node: PathElt\n",
      "                node: pname\n",
      "                 leaf: p1\n",
      "               node: PathElt\n",
      "                node: pname\n",
      "                 leaf: p2\n",
      "           leaf: *\n",
      "      leaf: z\n",
      "      leaf: x\n",
      "      node: PathAlternative\n",
      "        node: PathSequence\n",
      "          node: PathElt\n",
      "           node: PathNegatedPropertySet\n",
      "             node: pname\n",
      "              leaf: p3\n",
      "             node: pname\n",
      "              leaf: p4\n",
      "             node: pname\n",
      "              leaf: p5\n",
      "      leaf: a\n"
     ]
    }
   ],
   "source": [
    "Print_Visitor().visit(query)"
   ]
  },
  {
   "cell_type": "code",
   "execution_count": null,
   "metadata": {},
   "outputs": [],
   "source": [
    "class To_N3_Visitor:\n",
    "    \n",
    "    def visit(self, ast):\n",
    "        if type(ast) == parser.ParseResults:\n",
    "            ret = [ self.visit(j) for j in ast.as_list() ]\n",
    "            return \" . \".join([ \" \".join(ret[n*3 : (n+1)*3]) for n in range(int(len(ret)/3)) ])\n",
    "                    \n",
    "        elif type(ast) == list:\n",
    "            return \" \".join([ self.visit(j) for j in ast ])\n",
    "       \n",
    "        elif hasattr(ast, 'name'):\n",
    "            if ast.name == 'pname':\n",
    "                return self.leaf(ast)            \n",
    "            elif ast.name == 'TriplesBlock':\n",
    "                ret = [ self.visit(j) for j in ast['triples'] ]\n",
    "                return \" . \".join(ret)\n",
    "            else:\n",
    "                return self.node(ast)\n",
    "        \n",
    "        else:\n",
    "            return self.leaf(ast)\n",
    "        \n",
    "    def node(self, ast):        \n",
    "        symbol = None; infix = False\n",
    "        match(ast.name):\n",
    "            case 'PathAlternative':\n",
    "                symbol = \"|\"; infix = True\n",
    "            case 'PathSequence':\n",
    "                symbol = \"/\"; infix = True\n",
    "            case 'PathNegatedPropertySet':\n",
    "                symbol = \"!\"; infix = False\n",
    "            case 'PathEltOrInverse':\n",
    "                symbol = \"^\"; infix = False\n",
    "                \n",
    "        # kleene-star: represented using \"mod\" key\n",
    "        \n",
    "        key = list(ast.keys())[0]\n",
    "        is_list = (type(ast[key]) == list)\n",
    "        nodes = [ self.visit(j) for j in ast[key] ] if is_list else [ self.visit(ast[key]) ]\n",
    "\n",
    "        if symbol is not None:\n",
    "            symbol = f\" '{symbol}' \"\n",
    "            sep = symbol if infix else \" \"\n",
    "            nodes_str = \"(\" + sep.join(nodes) + \")\" if len(nodes) > 1 else sep.join(nodes)\n",
    "            if not infix:\n",
    "                nodes_str = \"(\" + symbol + nodes_str + \")\"\n",
    "            return nodes_str\n",
    "        else:\n",
    "            return nodes[0]\n",
    "        \n",
    "    def leaf(self, ast):\n",
    "        if hasattr(ast, \"n3\") and ast.n3 is not None:\n",
    "            return ast.n3()\n",
    "        elif ast.name == \"pname\":\n",
    "            return \":\" + ast['localname']\n",
    "        else:\n",
    "            return ast.__str__()"
   ]
  },
  {
   "cell_type": "code",
   "execution_count": 437,
   "metadata": {},
   "outputs": [
    {
     "data": {
      "text/plain": [
       "\"?x (:p1 '/' :p2) ?z . ?x ( '!' (:p3 :p4 :p5)) ?a\""
      ]
     },
     "execution_count": 437,
     "metadata": {},
     "output_type": "execute_result"
    }
   ],
   "source": [
    "visitor = To_N3_Visitor()\n",
    "visitor.visit(query['where'])"
   ]
  }
 ],
 "metadata": {
  "kernelspec": {
   "display_name": "base",
   "language": "python",
   "name": "python3"
  },
  "language_info": {
   "codemirror_mode": {
    "name": "ipython",
    "version": 3
   },
   "file_extension": ".py",
   "mimetype": "text/x-python",
   "name": "python",
   "nbconvert_exporter": "python",
   "pygments_lexer": "ipython3",
   "version": "3.11.5"
  }
 },
 "nbformat": 4,
 "nbformat_minor": 2
}
